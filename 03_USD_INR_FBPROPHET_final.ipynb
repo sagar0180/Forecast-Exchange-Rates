{
 "cells": [
  {
   "cell_type": "markdown",
   "id": "ae46e7b7",
   "metadata": {},
   "source": [
    "# Import libraries and data"
   ]
  },
  {
   "cell_type": "markdown",
   "id": "05a77a1f",
   "metadata": {},
   "source": [
    "Fb Prophet library is an open-source library designed for making forecasts for univariate time series datasets. It is easy to use and designed to automatically find a good set of hyperparameters for the model in an effort to make skillful forecasts for data with trends and seasonal structure by default."
   ]
  },
  {
   "cell_type": "code",
   "execution_count": 1,
   "id": "8b093aec",
   "metadata": {
    "ExecuteTime": {
     "end_time": "2021-08-17T09:05:29.244940Z",
     "start_time": "2021-08-17T09:05:28.650498Z"
    }
   },
   "outputs": [],
   "source": [
    "import pandas as pd"
   ]
  },
  {
   "cell_type": "code",
   "execution_count": 2,
   "id": "07484838",
   "metadata": {
    "ExecuteTime": {
     "end_time": "2021-08-17T09:05:29.496274Z",
     "start_time": "2021-08-17T09:05:29.246904Z"
    }
   },
   "outputs": [],
   "source": [
    "df= pd.read_excel(  r'C:\\Users\\MMM-SM\\21Pypractice\\project\\DEXINUS.xls', skiprows=10, parse_dates=True)"
   ]
  },
  {
   "cell_type": "code",
   "execution_count": 3,
   "id": "4b978662",
   "metadata": {
    "ExecuteTime": {
     "end_time": "2021-08-17T09:05:29.528190Z",
     "start_time": "2021-08-17T09:05:29.498233Z"
    }
   },
   "outputs": [
    {
     "data": {
      "text/html": [
       "<div>\n",
       "<style scoped>\n",
       "    .dataframe tbody tr th:only-of-type {\n",
       "        vertical-align: middle;\n",
       "    }\n",
       "\n",
       "    .dataframe tbody tr th {\n",
       "        vertical-align: top;\n",
       "    }\n",
       "\n",
       "    .dataframe thead th {\n",
       "        text-align: right;\n",
       "    }\n",
       "</style>\n",
       "<table border=\"1\" class=\"dataframe\">\n",
       "  <thead>\n",
       "    <tr style=\"text-align: right;\">\n",
       "      <th></th>\n",
       "      <th>observation_date</th>\n",
       "      <th>DEXINUS</th>\n",
       "    </tr>\n",
       "  </thead>\n",
       "  <tbody>\n",
       "    <tr>\n",
       "      <th>0</th>\n",
       "      <td>1973-01-02</td>\n",
       "      <td>8.02</td>\n",
       "    </tr>\n",
       "    <tr>\n",
       "      <th>1</th>\n",
       "      <td>1973-01-03</td>\n",
       "      <td>8.02</td>\n",
       "    </tr>\n",
       "    <tr>\n",
       "      <th>2</th>\n",
       "      <td>1973-01-04</td>\n",
       "      <td>8.00</td>\n",
       "    </tr>\n",
       "    <tr>\n",
       "      <th>3</th>\n",
       "      <td>1973-01-05</td>\n",
       "      <td>8.01</td>\n",
       "    </tr>\n",
       "    <tr>\n",
       "      <th>4</th>\n",
       "      <td>1973-01-08</td>\n",
       "      <td>8.00</td>\n",
       "    </tr>\n",
       "  </tbody>\n",
       "</table>\n",
       "</div>"
      ],
      "text/plain": [
       "  observation_date  DEXINUS\n",
       "0       1973-01-02     8.02\n",
       "1       1973-01-03     8.02\n",
       "2       1973-01-04     8.00\n",
       "3       1973-01-05     8.01\n",
       "4       1973-01-08     8.00"
      ]
     },
     "execution_count": 3,
     "metadata": {},
     "output_type": "execute_result"
    }
   ],
   "source": [
    "df.head()"
   ]
  },
  {
   "cell_type": "code",
   "execution_count": 4,
   "id": "6a4990ac",
   "metadata": {
    "ExecuteTime": {
     "end_time": "2021-08-17T09:05:29.574060Z",
     "start_time": "2021-08-17T09:05:29.530148Z"
    }
   },
   "outputs": [
    {
     "name": "stdout",
     "output_type": "stream",
     "text": [
      "<class 'pandas.core.frame.DataFrame'>\n",
      "RangeIndex: 12649 entries, 0 to 12648\n",
      "Data columns (total 2 columns):\n",
      " #   Column            Non-Null Count  Dtype         \n",
      "---  ------            --------------  -----         \n",
      " 0   observation_date  12649 non-null  datetime64[ns]\n",
      " 1   DEXINUS           12649 non-null  float64       \n",
      "dtypes: datetime64[ns](1), float64(1)\n",
      "memory usage: 197.8 KB\n"
     ]
    }
   ],
   "source": [
    "df['DEXINUS'].fillna(method='ffill', inplace=True)\n",
    "df.info()"
   ]
  },
  {
   "cell_type": "markdown",
   "id": "e82acfe0",
   "metadata": {},
   "source": [
    "Facebook Prophet predicts data only when it is in a certain format. The dataframe with the data should have column saved as ds for time series data and y for the data to be forecasted. Here, the time series is the column 'Date' and the data to be forecasted is the column 'DEXINUS'. So let’s make a new dataframe with new column names and the same data. Also, ds should be in a datetime format."
   ]
  },
  {
   "cell_type": "code",
   "execution_count": 5,
   "id": "2f9c6b3b",
   "metadata": {
    "ExecuteTime": {
     "end_time": "2021-08-17T09:05:29.621903Z",
     "start_time": "2021-08-17T09:05:29.576022Z"
    }
   },
   "outputs": [
    {
     "data": {
      "text/html": [
       "<div>\n",
       "<style scoped>\n",
       "    .dataframe tbody tr th:only-of-type {\n",
       "        vertical-align: middle;\n",
       "    }\n",
       "\n",
       "    .dataframe tbody tr th {\n",
       "        vertical-align: top;\n",
       "    }\n",
       "\n",
       "    .dataframe thead th {\n",
       "        text-align: right;\n",
       "    }\n",
       "</style>\n",
       "<table border=\"1\" class=\"dataframe\">\n",
       "  <thead>\n",
       "    <tr style=\"text-align: right;\">\n",
       "      <th></th>\n",
       "      <th>ds</th>\n",
       "      <th>y</th>\n",
       "    </tr>\n",
       "  </thead>\n",
       "  <tbody>\n",
       "    <tr>\n",
       "      <th>0</th>\n",
       "      <td>1973-01-02</td>\n",
       "      <td>8.02</td>\n",
       "    </tr>\n",
       "    <tr>\n",
       "      <th>1</th>\n",
       "      <td>1973-01-03</td>\n",
       "      <td>8.02</td>\n",
       "    </tr>\n",
       "    <tr>\n",
       "      <th>2</th>\n",
       "      <td>1973-01-04</td>\n",
       "      <td>8.00</td>\n",
       "    </tr>\n",
       "    <tr>\n",
       "      <th>3</th>\n",
       "      <td>1973-01-05</td>\n",
       "      <td>8.01</td>\n",
       "    </tr>\n",
       "    <tr>\n",
       "      <th>4</th>\n",
       "      <td>1973-01-08</td>\n",
       "      <td>8.00</td>\n",
       "    </tr>\n",
       "  </tbody>\n",
       "</table>\n",
       "</div>"
      ],
      "text/plain": [
       "          ds     y\n",
       "0 1973-01-02  8.02\n",
       "1 1973-01-03  8.02\n",
       "2 1973-01-04  8.00\n",
       "3 1973-01-05  8.01\n",
       "4 1973-01-08  8.00"
      ]
     },
     "execution_count": 5,
     "metadata": {},
     "output_type": "execute_result"
    }
   ],
   "source": [
    "#prepare expected column names\n",
    "df=df.rename(columns={'observation_date':'ds','DEXINUS':'y'})\n",
    "df.head()"
   ]
  },
  {
   "cell_type": "code",
   "execution_count": 6,
   "id": "62897a9c",
   "metadata": {
    "ExecuteTime": {
     "end_time": "2021-08-17T09:05:29.653816Z",
     "start_time": "2021-08-17T09:05:29.623901Z"
    }
   },
   "outputs": [
    {
     "data": {
      "text/plain": [
       "(12649, 2)"
      ]
     },
     "execution_count": 6,
     "metadata": {},
     "output_type": "execute_result"
    }
   ],
   "source": [
    "df.shape"
   ]
  },
  {
   "cell_type": "code",
   "execution_count": 7,
   "id": "73ae878e",
   "metadata": {
    "ExecuteTime": {
     "end_time": "2021-08-17T09:05:29.685735Z",
     "start_time": "2021-08-17T09:05:29.656808Z"
    }
   },
   "outputs": [],
   "source": [
    "from pandas import to_datetime"
   ]
  },
  {
   "cell_type": "code",
   "execution_count": 8,
   "id": "e757954c",
   "metadata": {
    "ExecuteTime": {
     "end_time": "2021-08-17T09:05:29.733601Z",
     "start_time": "2021-08-17T09:05:29.689720Z"
    }
   },
   "outputs": [],
   "source": [
    "df['ds']= to_datetime(df['ds'])"
   ]
  },
  {
   "cell_type": "code",
   "execution_count": 9,
   "id": "0164a1d8",
   "metadata": {
    "ExecuteTime": {
     "end_time": "2021-08-17T09:05:29.781474Z",
     "start_time": "2021-08-17T09:05:29.737593Z"
    }
   },
   "outputs": [
    {
     "data": {
      "text/html": [
       "<div>\n",
       "<style scoped>\n",
       "    .dataframe tbody tr th:only-of-type {\n",
       "        vertical-align: middle;\n",
       "    }\n",
       "\n",
       "    .dataframe tbody tr th {\n",
       "        vertical-align: top;\n",
       "    }\n",
       "\n",
       "    .dataframe thead th {\n",
       "        text-align: right;\n",
       "    }\n",
       "</style>\n",
       "<table border=\"1\" class=\"dataframe\">\n",
       "  <thead>\n",
       "    <tr style=\"text-align: right;\">\n",
       "      <th></th>\n",
       "      <th>ds</th>\n",
       "      <th>y</th>\n",
       "    </tr>\n",
       "  </thead>\n",
       "  <tbody>\n",
       "    <tr>\n",
       "      <th>0</th>\n",
       "      <td>1973-01-02</td>\n",
       "      <td>8.02</td>\n",
       "    </tr>\n",
       "    <tr>\n",
       "      <th>1</th>\n",
       "      <td>1973-01-03</td>\n",
       "      <td>8.02</td>\n",
       "    </tr>\n",
       "    <tr>\n",
       "      <th>2</th>\n",
       "      <td>1973-01-04</td>\n",
       "      <td>8.00</td>\n",
       "    </tr>\n",
       "    <tr>\n",
       "      <th>3</th>\n",
       "      <td>1973-01-05</td>\n",
       "      <td>8.01</td>\n",
       "    </tr>\n",
       "    <tr>\n",
       "      <th>4</th>\n",
       "      <td>1973-01-08</td>\n",
       "      <td>8.00</td>\n",
       "    </tr>\n",
       "  </tbody>\n",
       "</table>\n",
       "</div>"
      ],
      "text/plain": [
       "          ds     y\n",
       "0 1973-01-02  8.02\n",
       "1 1973-01-03  8.02\n",
       "2 1973-01-04  8.00\n",
       "3 1973-01-05  8.01\n",
       "4 1973-01-08  8.00"
      ]
     },
     "execution_count": 9,
     "metadata": {},
     "output_type": "execute_result"
    }
   ],
   "source": [
    "df.head()"
   ]
  },
  {
   "cell_type": "code",
   "execution_count": 10,
   "id": "ade1a52b",
   "metadata": {
    "ExecuteTime": {
     "end_time": "2021-08-17T09:05:29.813388Z",
     "start_time": "2021-08-17T09:05:29.784468Z"
    }
   },
   "outputs": [],
   "source": [
    "start_date = '1990-01-01'\n",
    "end_date = '2021-06-25'"
   ]
  },
  {
   "cell_type": "code",
   "execution_count": 11,
   "id": "23c084f9",
   "metadata": {
    "ExecuteTime": {
     "end_time": "2021-08-17T09:05:29.845303Z",
     "start_time": "2021-08-17T09:05:29.815384Z"
    }
   },
   "outputs": [],
   "source": [
    "removed_df = (df['ds'] >= start_date ) & (df['ds'] <= end_date)"
   ]
  },
  {
   "cell_type": "code",
   "execution_count": 12,
   "id": "09728bc2",
   "metadata": {
    "ExecuteTime": {
     "end_time": "2021-08-17T09:05:29.893177Z",
     "start_time": "2021-08-17T09:05:29.847299Z"
    }
   },
   "outputs": [
    {
     "data": {
      "text/plain": [
       "0        False\n",
       "1        False\n",
       "2        False\n",
       "3        False\n",
       "4        False\n",
       "         ...  \n",
       "12644     True\n",
       "12645     True\n",
       "12646     True\n",
       "12647     True\n",
       "12648     True\n",
       "Name: ds, Length: 12649, dtype: bool"
      ]
     },
     "execution_count": 12,
     "metadata": {},
     "output_type": "execute_result"
    }
   ],
   "source": [
    "removed_df"
   ]
  },
  {
   "cell_type": "code",
   "execution_count": 13,
   "id": "3dde9318",
   "metadata": {
    "ExecuteTime": {
     "end_time": "2021-08-17T09:05:29.940049Z",
     "start_time": "2021-08-17T09:05:29.895171Z"
    }
   },
   "outputs": [
    {
     "data": {
      "text/html": [
       "<div>\n",
       "<style scoped>\n",
       "    .dataframe tbody tr th:only-of-type {\n",
       "        vertical-align: middle;\n",
       "    }\n",
       "\n",
       "    .dataframe tbody tr th {\n",
       "        vertical-align: top;\n",
       "    }\n",
       "\n",
       "    .dataframe thead th {\n",
       "        text-align: right;\n",
       "    }\n",
       "</style>\n",
       "<table border=\"1\" class=\"dataframe\">\n",
       "  <thead>\n",
       "    <tr style=\"text-align: right;\">\n",
       "      <th></th>\n",
       "      <th>ds</th>\n",
       "      <th>y</th>\n",
       "    </tr>\n",
       "  </thead>\n",
       "  <tbody>\n",
       "    <tr>\n",
       "      <th>4434</th>\n",
       "      <td>1990-01-01</td>\n",
       "      <td>16.96</td>\n",
       "    </tr>\n",
       "    <tr>\n",
       "      <th>4435</th>\n",
       "      <td>1990-01-02</td>\n",
       "      <td>16.96</td>\n",
       "    </tr>\n",
       "    <tr>\n",
       "      <th>4436</th>\n",
       "      <td>1990-01-03</td>\n",
       "      <td>16.99</td>\n",
       "    </tr>\n",
       "    <tr>\n",
       "      <th>4437</th>\n",
       "      <td>1990-01-04</td>\n",
       "      <td>16.94</td>\n",
       "    </tr>\n",
       "    <tr>\n",
       "      <th>4438</th>\n",
       "      <td>1990-01-05</td>\n",
       "      <td>16.93</td>\n",
       "    </tr>\n",
       "    <tr>\n",
       "      <th>...</th>\n",
       "      <td>...</td>\n",
       "      <td>...</td>\n",
       "    </tr>\n",
       "    <tr>\n",
       "      <th>12644</th>\n",
       "      <td>2021-06-21</td>\n",
       "      <td>74.18</td>\n",
       "    </tr>\n",
       "    <tr>\n",
       "      <th>12645</th>\n",
       "      <td>2021-06-22</td>\n",
       "      <td>74.37</td>\n",
       "    </tr>\n",
       "    <tr>\n",
       "      <th>12646</th>\n",
       "      <td>2021-06-23</td>\n",
       "      <td>74.13</td>\n",
       "    </tr>\n",
       "    <tr>\n",
       "      <th>12647</th>\n",
       "      <td>2021-06-24</td>\n",
       "      <td>74.14</td>\n",
       "    </tr>\n",
       "    <tr>\n",
       "      <th>12648</th>\n",
       "      <td>2021-06-25</td>\n",
       "      <td>74.14</td>\n",
       "    </tr>\n",
       "  </tbody>\n",
       "</table>\n",
       "<p>8215 rows × 2 columns</p>\n",
       "</div>"
      ],
      "text/plain": [
       "              ds      y\n",
       "4434  1990-01-01  16.96\n",
       "4435  1990-01-02  16.96\n",
       "4436  1990-01-03  16.99\n",
       "4437  1990-01-04  16.94\n",
       "4438  1990-01-05  16.93\n",
       "...          ...    ...\n",
       "12644 2021-06-21  74.18\n",
       "12645 2021-06-22  74.37\n",
       "12646 2021-06-23  74.13\n",
       "12647 2021-06-24  74.14\n",
       "12648 2021-06-25  74.14\n",
       "\n",
       "[8215 rows x 2 columns]"
      ]
     },
     "execution_count": 13,
     "metadata": {},
     "output_type": "execute_result"
    }
   ],
   "source": [
    "df=df.loc[removed_df]\n",
    "df"
   ]
  },
  {
   "cell_type": "code",
   "execution_count": 14,
   "id": "687f32ab",
   "metadata": {
    "ExecuteTime": {
     "end_time": "2021-08-17T09:05:29.970967Z",
     "start_time": "2021-08-17T09:05:29.943042Z"
    }
   },
   "outputs": [],
   "source": [
    "df.ds = pd.to_datetime(df.ds)\n",
    "df.set_index('ds', inplace=True)"
   ]
  },
  {
   "cell_type": "code",
   "execution_count": 15,
   "id": "7c2b92e4",
   "metadata": {
    "ExecuteTime": {
     "end_time": "2021-08-17T09:05:30.063720Z",
     "start_time": "2021-08-17T09:05:29.972962Z"
    }
   },
   "outputs": [
    {
     "data": {
      "text/html": [
       "<div>\n",
       "<style scoped>\n",
       "    .dataframe tbody tr th:only-of-type {\n",
       "        vertical-align: middle;\n",
       "    }\n",
       "\n",
       "    .dataframe tbody tr th {\n",
       "        vertical-align: top;\n",
       "    }\n",
       "\n",
       "    .dataframe thead th {\n",
       "        text-align: right;\n",
       "    }\n",
       "</style>\n",
       "<table border=\"1\" class=\"dataframe\">\n",
       "  <thead>\n",
       "    <tr style=\"text-align: right;\">\n",
       "      <th></th>\n",
       "      <th>y</th>\n",
       "    </tr>\n",
       "    <tr>\n",
       "      <th>ds</th>\n",
       "      <th></th>\n",
       "    </tr>\n",
       "  </thead>\n",
       "  <tbody>\n",
       "    <tr>\n",
       "      <th>1990-01-01</th>\n",
       "      <td>16.96</td>\n",
       "    </tr>\n",
       "    <tr>\n",
       "      <th>1990-01-02</th>\n",
       "      <td>16.96</td>\n",
       "    </tr>\n",
       "    <tr>\n",
       "      <th>1990-01-03</th>\n",
       "      <td>16.99</td>\n",
       "    </tr>\n",
       "    <tr>\n",
       "      <th>1990-01-04</th>\n",
       "      <td>16.94</td>\n",
       "    </tr>\n",
       "    <tr>\n",
       "      <th>1990-01-05</th>\n",
       "      <td>16.93</td>\n",
       "    </tr>\n",
       "  </tbody>\n",
       "</table>\n",
       "</div>"
      ],
      "text/plain": [
       "                y\n",
       "ds               \n",
       "1990-01-01  16.96\n",
       "1990-01-02  16.96\n",
       "1990-01-03  16.99\n",
       "1990-01-04  16.94\n",
       "1990-01-05  16.93"
      ]
     },
     "execution_count": 15,
     "metadata": {},
     "output_type": "execute_result"
    }
   ],
   "source": [
    "df.head()"
   ]
  },
  {
   "cell_type": "code",
   "execution_count": 16,
   "id": "890308cf",
   "metadata": {
    "ExecuteTime": {
     "end_time": "2021-08-17T09:05:30.094636Z",
     "start_time": "2021-08-17T09:05:30.077682Z"
    }
   },
   "outputs": [],
   "source": [
    "split_date = '2019-06-24'\n",
    "train = df.loc[df.index <= split_date].copy()\n",
    "test = df.loc[df.index > split_date].copy()"
   ]
  },
  {
   "cell_type": "code",
   "execution_count": 17,
   "id": "c8d82243",
   "metadata": {
    "ExecuteTime": {
     "end_time": "2021-08-17T09:05:30.126551Z",
     "start_time": "2021-08-17T09:05:30.096631Z"
    }
   },
   "outputs": [
    {
     "data": {
      "text/html": [
       "<div>\n",
       "<style scoped>\n",
       "    .dataframe tbody tr th:only-of-type {\n",
       "        vertical-align: middle;\n",
       "    }\n",
       "\n",
       "    .dataframe tbody tr th {\n",
       "        vertical-align: top;\n",
       "    }\n",
       "\n",
       "    .dataframe thead th {\n",
       "        text-align: right;\n",
       "    }\n",
       "</style>\n",
       "<table border=\"1\" class=\"dataframe\">\n",
       "  <thead>\n",
       "    <tr style=\"text-align: right;\">\n",
       "      <th></th>\n",
       "      <th>y</th>\n",
       "    </tr>\n",
       "    <tr>\n",
       "      <th>ds</th>\n",
       "      <th></th>\n",
       "    </tr>\n",
       "  </thead>\n",
       "  <tbody>\n",
       "    <tr>\n",
       "      <th>1990-01-01</th>\n",
       "      <td>16.96</td>\n",
       "    </tr>\n",
       "    <tr>\n",
       "      <th>1990-01-02</th>\n",
       "      <td>16.96</td>\n",
       "    </tr>\n",
       "    <tr>\n",
       "      <th>1990-01-03</th>\n",
       "      <td>16.99</td>\n",
       "    </tr>\n",
       "    <tr>\n",
       "      <th>1990-01-04</th>\n",
       "      <td>16.94</td>\n",
       "    </tr>\n",
       "    <tr>\n",
       "      <th>1990-01-05</th>\n",
       "      <td>16.93</td>\n",
       "    </tr>\n",
       "  </tbody>\n",
       "</table>\n",
       "</div>"
      ],
      "text/plain": [
       "                y\n",
       "ds               \n",
       "1990-01-01  16.96\n",
       "1990-01-02  16.96\n",
       "1990-01-03  16.99\n",
       "1990-01-04  16.94\n",
       "1990-01-05  16.93"
      ]
     },
     "execution_count": 17,
     "metadata": {},
     "output_type": "execute_result"
    }
   ],
   "source": [
    "train.head()"
   ]
  },
  {
   "cell_type": "code",
   "execution_count": 18,
   "id": "5bef13f4",
   "metadata": {
    "ExecuteTime": {
     "end_time": "2021-08-17T09:05:30.174423Z",
     "start_time": "2021-08-17T09:05:30.129543Z"
    }
   },
   "outputs": [
    {
     "data": {
      "text/html": [
       "<div>\n",
       "<style scoped>\n",
       "    .dataframe tbody tr th:only-of-type {\n",
       "        vertical-align: middle;\n",
       "    }\n",
       "\n",
       "    .dataframe tbody tr th {\n",
       "        vertical-align: top;\n",
       "    }\n",
       "\n",
       "    .dataframe thead th {\n",
       "        text-align: right;\n",
       "    }\n",
       "</style>\n",
       "<table border=\"1\" class=\"dataframe\">\n",
       "  <thead>\n",
       "    <tr style=\"text-align: right;\">\n",
       "      <th></th>\n",
       "      <th>y</th>\n",
       "    </tr>\n",
       "    <tr>\n",
       "      <th>ds</th>\n",
       "      <th></th>\n",
       "    </tr>\n",
       "  </thead>\n",
       "  <tbody>\n",
       "    <tr>\n",
       "      <th>2019-06-18</th>\n",
       "      <td>69.60</td>\n",
       "    </tr>\n",
       "    <tr>\n",
       "      <th>2019-06-19</th>\n",
       "      <td>69.64</td>\n",
       "    </tr>\n",
       "    <tr>\n",
       "      <th>2019-06-20</th>\n",
       "      <td>69.44</td>\n",
       "    </tr>\n",
       "    <tr>\n",
       "      <th>2019-06-21</th>\n",
       "      <td>69.59</td>\n",
       "    </tr>\n",
       "    <tr>\n",
       "      <th>2019-06-24</th>\n",
       "      <td>69.32</td>\n",
       "    </tr>\n",
       "  </tbody>\n",
       "</table>\n",
       "</div>"
      ],
      "text/plain": [
       "                y\n",
       "ds               \n",
       "2019-06-18  69.60\n",
       "2019-06-19  69.64\n",
       "2019-06-20  69.44\n",
       "2019-06-21  69.59\n",
       "2019-06-24  69.32"
      ]
     },
     "execution_count": 18,
     "metadata": {},
     "output_type": "execute_result"
    }
   ],
   "source": [
    "train.tail()"
   ]
  },
  {
   "cell_type": "code",
   "execution_count": 19,
   "id": "13365c03",
   "metadata": {
    "ExecuteTime": {
     "end_time": "2021-08-17T09:05:30.221297Z",
     "start_time": "2021-08-17T09:05:30.176418Z"
    }
   },
   "outputs": [
    {
     "data": {
      "text/html": [
       "<div>\n",
       "<style scoped>\n",
       "    .dataframe tbody tr th:only-of-type {\n",
       "        vertical-align: middle;\n",
       "    }\n",
       "\n",
       "    .dataframe tbody tr th {\n",
       "        vertical-align: top;\n",
       "    }\n",
       "\n",
       "    .dataframe thead th {\n",
       "        text-align: right;\n",
       "    }\n",
       "</style>\n",
       "<table border=\"1\" class=\"dataframe\">\n",
       "  <thead>\n",
       "    <tr style=\"text-align: right;\">\n",
       "      <th></th>\n",
       "      <th>y</th>\n",
       "    </tr>\n",
       "    <tr>\n",
       "      <th>ds</th>\n",
       "      <th></th>\n",
       "    </tr>\n",
       "  </thead>\n",
       "  <tbody>\n",
       "    <tr>\n",
       "      <th>2019-06-25</th>\n",
       "      <td>69.26</td>\n",
       "    </tr>\n",
       "    <tr>\n",
       "      <th>2019-06-26</th>\n",
       "      <td>69.18</td>\n",
       "    </tr>\n",
       "    <tr>\n",
       "      <th>2019-06-27</th>\n",
       "      <td>69.01</td>\n",
       "    </tr>\n",
       "    <tr>\n",
       "      <th>2019-06-28</th>\n",
       "      <td>68.92</td>\n",
       "    </tr>\n",
       "    <tr>\n",
       "      <th>2019-07-01</th>\n",
       "      <td>68.87</td>\n",
       "    </tr>\n",
       "  </tbody>\n",
       "</table>\n",
       "</div>"
      ],
      "text/plain": [
       "                y\n",
       "ds               \n",
       "2019-06-25  69.26\n",
       "2019-06-26  69.18\n",
       "2019-06-27  69.01\n",
       "2019-06-28  68.92\n",
       "2019-07-01  68.87"
      ]
     },
     "execution_count": 19,
     "metadata": {},
     "output_type": "execute_result"
    }
   ],
   "source": [
    "test.head()"
   ]
  },
  {
   "cell_type": "code",
   "execution_count": 20,
   "id": "7253821d",
   "metadata": {
    "ExecuteTime": {
     "end_time": "2021-08-17T09:05:30.252215Z",
     "start_time": "2021-08-17T09:05:30.223293Z"
    }
   },
   "outputs": [
    {
     "data": {
      "text/plain": [
       "((7691, 1), (524, 1))"
      ]
     },
     "execution_count": 20,
     "metadata": {},
     "output_type": "execute_result"
    }
   ],
   "source": [
    "train.shape,test.shape"
   ]
  },
  {
   "cell_type": "code",
   "execution_count": 21,
   "id": "80b4df0f",
   "metadata": {
    "ExecuteTime": {
     "end_time": "2021-08-17T09:05:30.300086Z",
     "start_time": "2021-08-17T09:05:30.254210Z"
    }
   },
   "outputs": [
    {
     "data": {
      "text/html": [
       "<div>\n",
       "<style scoped>\n",
       "    .dataframe tbody tr th:only-of-type {\n",
       "        vertical-align: middle;\n",
       "    }\n",
       "\n",
       "    .dataframe tbody tr th {\n",
       "        vertical-align: top;\n",
       "    }\n",
       "\n",
       "    .dataframe thead th {\n",
       "        text-align: right;\n",
       "    }\n",
       "</style>\n",
       "<table border=\"1\" class=\"dataframe\">\n",
       "  <thead>\n",
       "    <tr style=\"text-align: right;\">\n",
       "      <th></th>\n",
       "      <th>ds</th>\n",
       "      <th>y</th>\n",
       "    </tr>\n",
       "  </thead>\n",
       "  <tbody>\n",
       "    <tr>\n",
       "      <th>0</th>\n",
       "      <td>1990-01-01</td>\n",
       "      <td>16.96</td>\n",
       "    </tr>\n",
       "    <tr>\n",
       "      <th>1</th>\n",
       "      <td>1990-01-02</td>\n",
       "      <td>16.96</td>\n",
       "    </tr>\n",
       "    <tr>\n",
       "      <th>2</th>\n",
       "      <td>1990-01-03</td>\n",
       "      <td>16.99</td>\n",
       "    </tr>\n",
       "    <tr>\n",
       "      <th>3</th>\n",
       "      <td>1990-01-04</td>\n",
       "      <td>16.94</td>\n",
       "    </tr>\n",
       "    <tr>\n",
       "      <th>4</th>\n",
       "      <td>1990-01-05</td>\n",
       "      <td>16.93</td>\n",
       "    </tr>\n",
       "  </tbody>\n",
       "</table>\n",
       "</div>"
      ],
      "text/plain": [
       "          ds      y\n",
       "0 1990-01-01  16.96\n",
       "1 1990-01-02  16.96\n",
       "2 1990-01-03  16.99\n",
       "3 1990-01-04  16.94\n",
       "4 1990-01-05  16.93"
      ]
     },
     "execution_count": 21,
     "metadata": {},
     "output_type": "execute_result"
    }
   ],
   "source": [
    "# Format data for prophet model using ds and y\n",
    "train.reset_index() \\\n",
    "    .rename(columns={'observation_date':'ds',\n",
    "                     'DEXINUS':'y'}).head()"
   ]
  },
  {
   "cell_type": "code",
   "execution_count": 22,
   "id": "67e745f1",
   "metadata": {
    "ExecuteTime": {
     "end_time": "2021-08-17T09:05:30.347960Z",
     "start_time": "2021-08-17T09:05:30.302082Z"
    }
   },
   "outputs": [
    {
     "data": {
      "text/html": [
       "<div>\n",
       "<style scoped>\n",
       "    .dataframe tbody tr th:only-of-type {\n",
       "        vertical-align: middle;\n",
       "    }\n",
       "\n",
       "    .dataframe tbody tr th {\n",
       "        vertical-align: top;\n",
       "    }\n",
       "\n",
       "    .dataframe thead th {\n",
       "        text-align: right;\n",
       "    }\n",
       "</style>\n",
       "<table border=\"1\" class=\"dataframe\">\n",
       "  <thead>\n",
       "    <tr style=\"text-align: right;\">\n",
       "      <th></th>\n",
       "      <th>ds</th>\n",
       "      <th>y</th>\n",
       "    </tr>\n",
       "  </thead>\n",
       "  <tbody>\n",
       "    <tr>\n",
       "      <th>7686</th>\n",
       "      <td>2019-06-18</td>\n",
       "      <td>69.60</td>\n",
       "    </tr>\n",
       "    <tr>\n",
       "      <th>7687</th>\n",
       "      <td>2019-06-19</td>\n",
       "      <td>69.64</td>\n",
       "    </tr>\n",
       "    <tr>\n",
       "      <th>7688</th>\n",
       "      <td>2019-06-20</td>\n",
       "      <td>69.44</td>\n",
       "    </tr>\n",
       "    <tr>\n",
       "      <th>7689</th>\n",
       "      <td>2019-06-21</td>\n",
       "      <td>69.59</td>\n",
       "    </tr>\n",
       "    <tr>\n",
       "      <th>7690</th>\n",
       "      <td>2019-06-24</td>\n",
       "      <td>69.32</td>\n",
       "    </tr>\n",
       "  </tbody>\n",
       "</table>\n",
       "</div>"
      ],
      "text/plain": [
       "             ds      y\n",
       "7686 2019-06-18  69.60\n",
       "7687 2019-06-19  69.64\n",
       "7688 2019-06-20  69.44\n",
       "7689 2019-06-21  69.59\n",
       "7690 2019-06-24  69.32"
      ]
     },
     "execution_count": 22,
     "metadata": {},
     "output_type": "execute_result"
    }
   ],
   "source": [
    "# Format data for prophet model using ds and y\n",
    "train.reset_index() \\\n",
    "    .rename(columns={'observation_date':'ds',\n",
    "                     'DEXINUS':'y'}).tail()"
   ]
  },
  {
   "cell_type": "code",
   "execution_count": 23,
   "id": "71886c63",
   "metadata": {
    "ExecuteTime": {
     "end_time": "2021-08-17T09:05:30.377880Z",
     "start_time": "2021-08-17T09:05:30.353943Z"
    }
   },
   "outputs": [
    {
     "data": {
      "text/html": [
       "<div>\n",
       "<style scoped>\n",
       "    .dataframe tbody tr th:only-of-type {\n",
       "        vertical-align: middle;\n",
       "    }\n",
       "\n",
       "    .dataframe tbody tr th {\n",
       "        vertical-align: top;\n",
       "    }\n",
       "\n",
       "    .dataframe thead th {\n",
       "        text-align: right;\n",
       "    }\n",
       "</style>\n",
       "<table border=\"1\" class=\"dataframe\">\n",
       "  <thead>\n",
       "    <tr style=\"text-align: right;\">\n",
       "      <th></th>\n",
       "      <th>ds</th>\n",
       "      <th>y</th>\n",
       "    </tr>\n",
       "  </thead>\n",
       "  <tbody>\n",
       "    <tr>\n",
       "      <th>0</th>\n",
       "      <td>2019-06-25</td>\n",
       "      <td>69.26</td>\n",
       "    </tr>\n",
       "    <tr>\n",
       "      <th>1</th>\n",
       "      <td>2019-06-26</td>\n",
       "      <td>69.18</td>\n",
       "    </tr>\n",
       "    <tr>\n",
       "      <th>2</th>\n",
       "      <td>2019-06-27</td>\n",
       "      <td>69.01</td>\n",
       "    </tr>\n",
       "    <tr>\n",
       "      <th>3</th>\n",
       "      <td>2019-06-28</td>\n",
       "      <td>68.92</td>\n",
       "    </tr>\n",
       "    <tr>\n",
       "      <th>4</th>\n",
       "      <td>2019-07-01</td>\n",
       "      <td>68.87</td>\n",
       "    </tr>\n",
       "  </tbody>\n",
       "</table>\n",
       "</div>"
      ],
      "text/plain": [
       "          ds      y\n",
       "0 2019-06-25  69.26\n",
       "1 2019-06-26  69.18\n",
       "2 2019-06-27  69.01\n",
       "3 2019-06-28  68.92\n",
       "4 2019-07-01  68.87"
      ]
     },
     "execution_count": 23,
     "metadata": {},
     "output_type": "execute_result"
    }
   ],
   "source": [
    "# Format data for prophet model using ds and y\n",
    "test.reset_index() \\\n",
    "    .rename(columns={'observation_date':'ds',\n",
    "                     'DEXINUS':'y'}).head()"
   ]
  },
  {
   "cell_type": "code",
   "execution_count": 24,
   "id": "2e216ea4",
   "metadata": {
    "ExecuteTime": {
     "end_time": "2021-08-17T09:05:30.521494Z",
     "start_time": "2021-08-17T09:05:30.380871Z"
    }
   },
   "outputs": [
    {
     "data": {
      "text/html": [
       "<div>\n",
       "<style scoped>\n",
       "    .dataframe tbody tr th:only-of-type {\n",
       "        vertical-align: middle;\n",
       "    }\n",
       "\n",
       "    .dataframe tbody tr th {\n",
       "        vertical-align: top;\n",
       "    }\n",
       "\n",
       "    .dataframe thead th {\n",
       "        text-align: right;\n",
       "    }\n",
       "</style>\n",
       "<table border=\"1\" class=\"dataframe\">\n",
       "  <thead>\n",
       "    <tr style=\"text-align: right;\">\n",
       "      <th></th>\n",
       "      <th>ds</th>\n",
       "      <th>y</th>\n",
       "    </tr>\n",
       "  </thead>\n",
       "  <tbody>\n",
       "    <tr>\n",
       "      <th>519</th>\n",
       "      <td>2021-06-21</td>\n",
       "      <td>74.18</td>\n",
       "    </tr>\n",
       "    <tr>\n",
       "      <th>520</th>\n",
       "      <td>2021-06-22</td>\n",
       "      <td>74.37</td>\n",
       "    </tr>\n",
       "    <tr>\n",
       "      <th>521</th>\n",
       "      <td>2021-06-23</td>\n",
       "      <td>74.13</td>\n",
       "    </tr>\n",
       "    <tr>\n",
       "      <th>522</th>\n",
       "      <td>2021-06-24</td>\n",
       "      <td>74.14</td>\n",
       "    </tr>\n",
       "    <tr>\n",
       "      <th>523</th>\n",
       "      <td>2021-06-25</td>\n",
       "      <td>74.14</td>\n",
       "    </tr>\n",
       "  </tbody>\n",
       "</table>\n",
       "</div>"
      ],
      "text/plain": [
       "            ds      y\n",
       "519 2021-06-21  74.18\n",
       "520 2021-06-22  74.37\n",
       "521 2021-06-23  74.13\n",
       "522 2021-06-24  74.14\n",
       "523 2021-06-25  74.14"
      ]
     },
     "execution_count": 24,
     "metadata": {},
     "output_type": "execute_result"
    }
   ],
   "source": [
    "# Format data for prophet model using ds and y\n",
    "test.reset_index() \\\n",
    "    .rename(columns={'observation_date':'ds',\n",
    "                     'DEXINUS':'y'}).tail()"
   ]
  },
  {
   "cell_type": "code",
   "execution_count": 25,
   "id": "d87bdb18",
   "metadata": {
    "ExecuteTime": {
     "end_time": "2021-08-17T09:05:34.968033Z",
     "start_time": "2021-08-17T09:05:30.523490Z"
    }
   },
   "outputs": [],
   "source": [
    "import fbprophet"
   ]
  },
  {
   "cell_type": "code",
   "execution_count": 26,
   "id": "3eee1c21",
   "metadata": {
    "ExecuteTime": {
     "end_time": "2021-08-17T09:05:34.983424Z",
     "start_time": "2021-08-17T09:05:34.968033Z"
    }
   },
   "outputs": [],
   "source": [
    "from fbprophet import Prophet"
   ]
  },
  {
   "cell_type": "code",
   "execution_count": 27,
   "id": "3d36b179",
   "metadata": {
    "ExecuteTime": {
     "end_time": "2021-08-17T09:05:38.273654Z",
     "start_time": "2021-08-17T09:05:34.990426Z"
    }
   },
   "outputs": [],
   "source": [
    "from sklearn.metrics import mean_squared_error, mean_absolute_error\n",
    "import numpy as np\n",
    "import matplotlib.pyplot as plt"
   ]
  },
  {
   "cell_type": "markdown",
   "id": "b5ccddc0",
   "metadata": {},
   "source": [
    "# Model building using hyper parameter prior scale\n",
    "\n",
    "## prior scale 0.05"
   ]
  },
  {
   "cell_type": "code",
   "execution_count": 28,
   "id": "c7d80241",
   "metadata": {
    "ExecuteTime": {
     "end_time": "2021-08-17T09:06:28.294184Z",
     "start_time": "2021-08-17T09:05:38.273654Z"
    }
   },
   "outputs": [
    {
     "name": "stderr",
     "output_type": "stream",
     "text": [
      "INFO:fbprophet:Disabling daily seasonality. Run prophet with daily_seasonality=True to override this.\n"
     ]
    },
    {
     "data": {
      "text/plain": [
       "<fbprophet.forecaster.Prophet at 0x2a780ffc340>"
      ]
     },
     "execution_count": 28,
     "metadata": {},
     "output_type": "execute_result"
    }
   ],
   "source": [
    "# Setup and train model and fit\n",
    "model = Prophet()\n",
    "model.fit(train.reset_index() \\\n",
    "              .rename(columns={'observation_date':'ds',\n",
    "                               'DEXINUS':'y'}))"
   ]
  },
  {
   "cell_type": "code",
   "execution_count": 29,
   "id": "bf13af73",
   "metadata": {
    "ExecuteTime": {
     "end_time": "2021-08-17T09:06:29.752086Z",
     "start_time": "2021-08-17T09:06:28.295477Z"
    }
   },
   "outputs": [],
   "source": [
    "test_fcst = model.predict(df=test.reset_index() \\\n",
    "                          .rename(columns={'observation_date':'ds',\n",
    "                                           'DEXINUS':'y'}))"
   ]
  },
  {
   "cell_type": "code",
   "execution_count": 30,
   "id": "aeba5728",
   "metadata": {
    "ExecuteTime": {
     "end_time": "2021-08-17T09:06:29.782664Z",
     "start_time": "2021-08-17T09:06:29.752086Z"
    }
   },
   "outputs": [
    {
     "data": {
      "text/html": [
       "<div>\n",
       "<style scoped>\n",
       "    .dataframe tbody tr th:only-of-type {\n",
       "        vertical-align: middle;\n",
       "    }\n",
       "\n",
       "    .dataframe tbody tr th {\n",
       "        vertical-align: top;\n",
       "    }\n",
       "\n",
       "    .dataframe thead th {\n",
       "        text-align: right;\n",
       "    }\n",
       "</style>\n",
       "<table border=\"1\" class=\"dataframe\">\n",
       "  <thead>\n",
       "    <tr style=\"text-align: right;\">\n",
       "      <th></th>\n",
       "      <th>ds</th>\n",
       "      <th>trend</th>\n",
       "      <th>yhat_lower</th>\n",
       "      <th>yhat_upper</th>\n",
       "      <th>trend_lower</th>\n",
       "      <th>trend_upper</th>\n",
       "      <th>additive_terms</th>\n",
       "      <th>additive_terms_lower</th>\n",
       "      <th>additive_terms_upper</th>\n",
       "      <th>weekly</th>\n",
       "      <th>weekly_lower</th>\n",
       "      <th>weekly_upper</th>\n",
       "      <th>yearly</th>\n",
       "      <th>yearly_lower</th>\n",
       "      <th>yearly_upper</th>\n",
       "      <th>multiplicative_terms</th>\n",
       "      <th>multiplicative_terms_lower</th>\n",
       "      <th>multiplicative_terms_upper</th>\n",
       "      <th>yhat</th>\n",
       "    </tr>\n",
       "  </thead>\n",
       "  <tbody>\n",
       "    <tr>\n",
       "      <th>0</th>\n",
       "      <td>2019-06-25</td>\n",
       "      <td>70.293855</td>\n",
       "      <td>68.668715</td>\n",
       "      <td>72.061552</td>\n",
       "      <td>70.293855</td>\n",
       "      <td>70.293855</td>\n",
       "      <td>-0.022560</td>\n",
       "      <td>-0.022560</td>\n",
       "      <td>-0.022560</td>\n",
       "      <td>-0.003834</td>\n",
       "      <td>-0.003834</td>\n",
       "      <td>-0.003834</td>\n",
       "      <td>-0.018727</td>\n",
       "      <td>-0.018727</td>\n",
       "      <td>-0.018727</td>\n",
       "      <td>0.0</td>\n",
       "      <td>0.0</td>\n",
       "      <td>0.0</td>\n",
       "      <td>70.271295</td>\n",
       "    </tr>\n",
       "    <tr>\n",
       "      <th>1</th>\n",
       "      <td>2019-06-26</td>\n",
       "      <td>70.298569</td>\n",
       "      <td>68.642750</td>\n",
       "      <td>71.913372</td>\n",
       "      <td>70.298569</td>\n",
       "      <td>70.298569</td>\n",
       "      <td>-0.014040</td>\n",
       "      <td>-0.014040</td>\n",
       "      <td>-0.014040</td>\n",
       "      <td>-0.010381</td>\n",
       "      <td>-0.010381</td>\n",
       "      <td>-0.010381</td>\n",
       "      <td>-0.003659</td>\n",
       "      <td>-0.003659</td>\n",
       "      <td>-0.003659</td>\n",
       "      <td>0.0</td>\n",
       "      <td>0.0</td>\n",
       "      <td>0.0</td>\n",
       "      <td>70.284529</td>\n",
       "    </tr>\n",
       "    <tr>\n",
       "      <th>2</th>\n",
       "      <td>2019-06-27</td>\n",
       "      <td>70.303283</td>\n",
       "      <td>68.664677</td>\n",
       "      <td>71.820710</td>\n",
       "      <td>70.303283</td>\n",
       "      <td>70.303283</td>\n",
       "      <td>0.001647</td>\n",
       "      <td>0.001647</td>\n",
       "      <td>0.001647</td>\n",
       "      <td>-0.009400</td>\n",
       "      <td>-0.009400</td>\n",
       "      <td>-0.009400</td>\n",
       "      <td>0.011047</td>\n",
       "      <td>0.011047</td>\n",
       "      <td>0.011047</td>\n",
       "      <td>0.0</td>\n",
       "      <td>0.0</td>\n",
       "      <td>0.0</td>\n",
       "      <td>70.304930</td>\n",
       "    </tr>\n",
       "    <tr>\n",
       "      <th>3</th>\n",
       "      <td>2019-06-28</td>\n",
       "      <td>70.307997</td>\n",
       "      <td>68.602671</td>\n",
       "      <td>71.958397</td>\n",
       "      <td>70.307997</td>\n",
       "      <td>70.307997</td>\n",
       "      <td>-0.004475</td>\n",
       "      <td>-0.004475</td>\n",
       "      <td>-0.004475</td>\n",
       "      <td>-0.029662</td>\n",
       "      <td>-0.029662</td>\n",
       "      <td>-0.029662</td>\n",
       "      <td>0.025188</td>\n",
       "      <td>0.025188</td>\n",
       "      <td>0.025188</td>\n",
       "      <td>0.0</td>\n",
       "      <td>0.0</td>\n",
       "      <td>0.0</td>\n",
       "      <td>70.303522</td>\n",
       "    </tr>\n",
       "    <tr>\n",
       "      <th>4</th>\n",
       "      <td>2019-07-01</td>\n",
       "      <td>70.322139</td>\n",
       "      <td>68.845013</td>\n",
       "      <td>71.999580</td>\n",
       "      <td>70.322139</td>\n",
       "      <td>70.322139</td>\n",
       "      <td>0.049224</td>\n",
       "      <td>0.049224</td>\n",
       "      <td>0.049224</td>\n",
       "      <td>-0.013037</td>\n",
       "      <td>-0.013037</td>\n",
       "      <td>-0.013037</td>\n",
       "      <td>0.062261</td>\n",
       "      <td>0.062261</td>\n",
       "      <td>0.062261</td>\n",
       "      <td>0.0</td>\n",
       "      <td>0.0</td>\n",
       "      <td>0.0</td>\n",
       "      <td>70.371363</td>\n",
       "    </tr>\n",
       "  </tbody>\n",
       "</table>\n",
       "</div>"
      ],
      "text/plain": [
       "          ds      trend  yhat_lower  yhat_upper  trend_lower  trend_upper  \\\n",
       "0 2019-06-25  70.293855   68.668715   72.061552    70.293855    70.293855   \n",
       "1 2019-06-26  70.298569   68.642750   71.913372    70.298569    70.298569   \n",
       "2 2019-06-27  70.303283   68.664677   71.820710    70.303283    70.303283   \n",
       "3 2019-06-28  70.307997   68.602671   71.958397    70.307997    70.307997   \n",
       "4 2019-07-01  70.322139   68.845013   71.999580    70.322139    70.322139   \n",
       "\n",
       "   additive_terms  additive_terms_lower  additive_terms_upper    weekly  \\\n",
       "0       -0.022560             -0.022560             -0.022560 -0.003834   \n",
       "1       -0.014040             -0.014040             -0.014040 -0.010381   \n",
       "2        0.001647              0.001647              0.001647 -0.009400   \n",
       "3       -0.004475             -0.004475             -0.004475 -0.029662   \n",
       "4        0.049224              0.049224              0.049224 -0.013037   \n",
       "\n",
       "   weekly_lower  weekly_upper    yearly  yearly_lower  yearly_upper  \\\n",
       "0     -0.003834     -0.003834 -0.018727     -0.018727     -0.018727   \n",
       "1     -0.010381     -0.010381 -0.003659     -0.003659     -0.003659   \n",
       "2     -0.009400     -0.009400  0.011047      0.011047      0.011047   \n",
       "3     -0.029662     -0.029662  0.025188      0.025188      0.025188   \n",
       "4     -0.013037     -0.013037  0.062261      0.062261      0.062261   \n",
       "\n",
       "   multiplicative_terms  multiplicative_terms_lower  \\\n",
       "0                   0.0                         0.0   \n",
       "1                   0.0                         0.0   \n",
       "2                   0.0                         0.0   \n",
       "3                   0.0                         0.0   \n",
       "4                   0.0                         0.0   \n",
       "\n",
       "   multiplicative_terms_upper       yhat  \n",
       "0                         0.0  70.271295  \n",
       "1                         0.0  70.284529  \n",
       "2                         0.0  70.304930  \n",
       "3                         0.0  70.303522  \n",
       "4                         0.0  70.371363  "
      ]
     },
     "execution_count": 30,
     "metadata": {},
     "output_type": "execute_result"
    }
   ],
   "source": [
    "test_fcst.head()"
   ]
  },
  {
   "cell_type": "markdown",
   "id": "ed7f1cb8",
   "metadata": {},
   "source": [
    "In the above table ds, as we know, is the time series data. yhat is the prediction, yhat_lower and yhat_upper are the uncertainty levels(it basically means the prediction and actual values can vary within the bounds of the uncertainty levels)"
   ]
  },
  {
   "cell_type": "code",
   "execution_count": 31,
   "id": "c9eff518",
   "metadata": {
    "ExecuteTime": {
     "end_time": "2021-08-17T09:06:29.830536Z",
     "start_time": "2021-08-17T09:06:29.784625Z"
    }
   },
   "outputs": [
    {
     "data": {
      "text/html": [
       "<div>\n",
       "<style scoped>\n",
       "    .dataframe tbody tr th:only-of-type {\n",
       "        vertical-align: middle;\n",
       "    }\n",
       "\n",
       "    .dataframe tbody tr th {\n",
       "        vertical-align: top;\n",
       "    }\n",
       "\n",
       "    .dataframe thead th {\n",
       "        text-align: right;\n",
       "    }\n",
       "</style>\n",
       "<table border=\"1\" class=\"dataframe\">\n",
       "  <thead>\n",
       "    <tr style=\"text-align: right;\">\n",
       "      <th></th>\n",
       "      <th>ds</th>\n",
       "      <th>trend</th>\n",
       "      <th>yhat_lower</th>\n",
       "      <th>yhat_upper</th>\n",
       "      <th>trend_lower</th>\n",
       "      <th>trend_upper</th>\n",
       "      <th>additive_terms</th>\n",
       "      <th>additive_terms_lower</th>\n",
       "      <th>additive_terms_upper</th>\n",
       "      <th>weekly</th>\n",
       "      <th>weekly_lower</th>\n",
       "      <th>weekly_upper</th>\n",
       "      <th>yearly</th>\n",
       "      <th>yearly_lower</th>\n",
       "      <th>yearly_upper</th>\n",
       "      <th>multiplicative_terms</th>\n",
       "      <th>multiplicative_terms_lower</th>\n",
       "      <th>multiplicative_terms_upper</th>\n",
       "      <th>yhat</th>\n",
       "    </tr>\n",
       "  </thead>\n",
       "  <tbody>\n",
       "    <tr>\n",
       "      <th>519</th>\n",
       "      <td>2021-06-21</td>\n",
       "      <td>73.720920</td>\n",
       "      <td>66.957570</td>\n",
       "      <td>82.157860</td>\n",
       "      <td>67.177227</td>\n",
       "      <td>81.966420</td>\n",
       "      <td>-0.084431</td>\n",
       "      <td>-0.084431</td>\n",
       "      <td>-0.084431</td>\n",
       "      <td>-0.013037</td>\n",
       "      <td>-0.013037</td>\n",
       "      <td>-0.013037</td>\n",
       "      <td>-0.071394</td>\n",
       "      <td>-0.071394</td>\n",
       "      <td>-0.071394</td>\n",
       "      <td>0.0</td>\n",
       "      <td>0.0</td>\n",
       "      <td>0.0</td>\n",
       "      <td>73.636489</td>\n",
       "    </tr>\n",
       "    <tr>\n",
       "      <th>520</th>\n",
       "      <td>2021-06-22</td>\n",
       "      <td>73.725634</td>\n",
       "      <td>66.387871</td>\n",
       "      <td>82.312853</td>\n",
       "      <td>67.170213</td>\n",
       "      <td>81.971259</td>\n",
       "      <td>-0.060474</td>\n",
       "      <td>-0.060474</td>\n",
       "      <td>-0.060474</td>\n",
       "      <td>-0.003834</td>\n",
       "      <td>-0.003834</td>\n",
       "      <td>-0.003834</td>\n",
       "      <td>-0.056641</td>\n",
       "      <td>-0.056641</td>\n",
       "      <td>-0.056641</td>\n",
       "      <td>0.0</td>\n",
       "      <td>0.0</td>\n",
       "      <td>0.0</td>\n",
       "      <td>73.665160</td>\n",
       "    </tr>\n",
       "    <tr>\n",
       "      <th>521</th>\n",
       "      <td>2021-06-23</td>\n",
       "      <td>73.730348</td>\n",
       "      <td>66.498010</td>\n",
       "      <td>82.323603</td>\n",
       "      <td>67.163199</td>\n",
       "      <td>81.985271</td>\n",
       "      <td>-0.051938</td>\n",
       "      <td>-0.051938</td>\n",
       "      <td>-0.051938</td>\n",
       "      <td>-0.010381</td>\n",
       "      <td>-0.010381</td>\n",
       "      <td>-0.010381</td>\n",
       "      <td>-0.041557</td>\n",
       "      <td>-0.041557</td>\n",
       "      <td>-0.041557</td>\n",
       "      <td>0.0</td>\n",
       "      <td>0.0</td>\n",
       "      <td>0.0</td>\n",
       "      <td>73.678410</td>\n",
       "    </tr>\n",
       "    <tr>\n",
       "      <th>522</th>\n",
       "      <td>2021-06-24</td>\n",
       "      <td>73.735062</td>\n",
       "      <td>66.991155</td>\n",
       "      <td>82.009643</td>\n",
       "      <td>67.156185</td>\n",
       "      <td>82.013213</td>\n",
       "      <td>-0.035732</td>\n",
       "      <td>-0.035732</td>\n",
       "      <td>-0.035732</td>\n",
       "      <td>-0.009400</td>\n",
       "      <td>-0.009400</td>\n",
       "      <td>-0.009400</td>\n",
       "      <td>-0.026332</td>\n",
       "      <td>-0.026332</td>\n",
       "      <td>-0.026332</td>\n",
       "      <td>0.0</td>\n",
       "      <td>0.0</td>\n",
       "      <td>0.0</td>\n",
       "      <td>73.699330</td>\n",
       "    </tr>\n",
       "    <tr>\n",
       "      <th>523</th>\n",
       "      <td>2021-06-25</td>\n",
       "      <td>73.739776</td>\n",
       "      <td>66.822544</td>\n",
       "      <td>82.115275</td>\n",
       "      <td>67.149171</td>\n",
       "      <td>82.041156</td>\n",
       "      <td>-0.040823</td>\n",
       "      <td>-0.040823</td>\n",
       "      <td>-0.040823</td>\n",
       "      <td>-0.029662</td>\n",
       "      <td>-0.029662</td>\n",
       "      <td>-0.029662</td>\n",
       "      <td>-0.011161</td>\n",
       "      <td>-0.011161</td>\n",
       "      <td>-0.011161</td>\n",
       "      <td>0.0</td>\n",
       "      <td>0.0</td>\n",
       "      <td>0.0</td>\n",
       "      <td>73.698953</td>\n",
       "    </tr>\n",
       "  </tbody>\n",
       "</table>\n",
       "</div>"
      ],
      "text/plain": [
       "            ds      trend  yhat_lower  yhat_upper  trend_lower  trend_upper  \\\n",
       "519 2021-06-21  73.720920   66.957570   82.157860    67.177227    81.966420   \n",
       "520 2021-06-22  73.725634   66.387871   82.312853    67.170213    81.971259   \n",
       "521 2021-06-23  73.730348   66.498010   82.323603    67.163199    81.985271   \n",
       "522 2021-06-24  73.735062   66.991155   82.009643    67.156185    82.013213   \n",
       "523 2021-06-25  73.739776   66.822544   82.115275    67.149171    82.041156   \n",
       "\n",
       "     additive_terms  additive_terms_lower  additive_terms_upper    weekly  \\\n",
       "519       -0.084431             -0.084431             -0.084431 -0.013037   \n",
       "520       -0.060474             -0.060474             -0.060474 -0.003834   \n",
       "521       -0.051938             -0.051938             -0.051938 -0.010381   \n",
       "522       -0.035732             -0.035732             -0.035732 -0.009400   \n",
       "523       -0.040823             -0.040823             -0.040823 -0.029662   \n",
       "\n",
       "     weekly_lower  weekly_upper    yearly  yearly_lower  yearly_upper  \\\n",
       "519     -0.013037     -0.013037 -0.071394     -0.071394     -0.071394   \n",
       "520     -0.003834     -0.003834 -0.056641     -0.056641     -0.056641   \n",
       "521     -0.010381     -0.010381 -0.041557     -0.041557     -0.041557   \n",
       "522     -0.009400     -0.009400 -0.026332     -0.026332     -0.026332   \n",
       "523     -0.029662     -0.029662 -0.011161     -0.011161     -0.011161   \n",
       "\n",
       "     multiplicative_terms  multiplicative_terms_lower  \\\n",
       "519                   0.0                         0.0   \n",
       "520                   0.0                         0.0   \n",
       "521                   0.0                         0.0   \n",
       "522                   0.0                         0.0   \n",
       "523                   0.0                         0.0   \n",
       "\n",
       "     multiplicative_terms_upper       yhat  \n",
       "519                         0.0  73.636489  \n",
       "520                         0.0  73.665160  \n",
       "521                         0.0  73.678410  \n",
       "522                         0.0  73.699330  \n",
       "523                         0.0  73.698953  "
      ]
     },
     "execution_count": 31,
     "metadata": {},
     "output_type": "execute_result"
    }
   ],
   "source": [
    "test_fcst.tail()"
   ]
  },
  {
   "cell_type": "code",
   "execution_count": 32,
   "id": "47109679",
   "metadata": {
    "ExecuteTime": {
     "end_time": "2021-08-17T09:06:29.862451Z",
     "start_time": "2021-08-17T09:06:29.831498Z"
    }
   },
   "outputs": [
    {
     "data": {
      "text/plain": [
       "1.804402567283352"
      ]
     },
     "execution_count": 32,
     "metadata": {},
     "output_type": "execute_result"
    }
   ],
   "source": [
    "def mean_absolute_percentage_error(y_true, y_pred): \n",
    "    \"\"\"Calculates MAPE given y_true and y_pred\"\"\"\n",
    "    y_true, y_pred = np.array(y_true), np.array(y_pred)\n",
    "    return np.mean(np.abs((y_true - y_pred) / y_true)) * 100\n",
    "\n",
    "mean_absolute_percentage_error(y_true=test['y'],y_pred=test_fcst['yhat'])"
   ]
  },
  {
   "cell_type": "code",
   "execution_count": 33,
   "id": "e69777f8",
   "metadata": {
    "ExecuteTime": {
     "end_time": "2021-08-17T09:06:30.501367Z",
     "start_time": "2021-08-17T09:06:29.864411Z"
    }
   },
   "outputs": [
    {
     "data": {
      "image/png": "[encoded data removed]",
      "text/plain": [
       "<Figure size 1080x360 with 1 Axes>"
      ]
     },
     "metadata": {
      "needs_background": "light"
     },
     "output_type": "display_data"
    }
   ],
   "source": [
    "# Plot the forecast\n",
    "#prior scale 0.05\n",
    "f, ax = plt.subplots(1)\n",
    "f.set_figheight(5)\n",
    "f.set_figwidth(15)\n",
    "fig = model.plot(test_fcst,\n",
    "                 ax=ax)\n",
    "plt.show()"
   ]
  },
  {
   "cell_type": "markdown",
   "id": "df726fdb",
   "metadata": {},
   "source": [
    "## Prediction on future data with prior scale 0.05"
   ]
  },
  {
   "cell_type": "code",
   "execution_count": 34,
   "id": "c6a1e81d",
   "metadata": {
    "ExecuteTime": {
     "end_time": "2021-08-17T09:06:30.516541Z",
     "start_time": "2021-08-17T09:06:30.502542Z"
    }
   },
   "outputs": [
    {
     "data": {
      "text/html": [
       "<div>\n",
       "<style scoped>\n",
       "    .dataframe tbody tr th:only-of-type {\n",
       "        vertical-align: middle;\n",
       "    }\n",
       "\n",
       "    .dataframe tbody tr th {\n",
       "        vertical-align: top;\n",
       "    }\n",
       "\n",
       "    .dataframe thead th {\n",
       "        text-align: right;\n",
       "    }\n",
       "</style>\n",
       "<table border=\"1\" class=\"dataframe\">\n",
       "  <thead>\n",
       "    <tr style=\"text-align: right;\">\n",
       "      <th></th>\n",
       "      <th>ds</th>\n",
       "      <th>y</th>\n",
       "    </tr>\n",
       "  </thead>\n",
       "  <tbody>\n",
       "    <tr>\n",
       "      <th>0</th>\n",
       "      <td>1990-01-01</td>\n",
       "      <td>16.96</td>\n",
       "    </tr>\n",
       "    <tr>\n",
       "      <th>1</th>\n",
       "      <td>1990-01-02</td>\n",
       "      <td>16.96</td>\n",
       "    </tr>\n",
       "    <tr>\n",
       "      <th>2</th>\n",
       "      <td>1990-01-03</td>\n",
       "      <td>16.99</td>\n",
       "    </tr>\n",
       "    <tr>\n",
       "      <th>3</th>\n",
       "      <td>1990-01-04</td>\n",
       "      <td>16.94</td>\n",
       "    </tr>\n",
       "    <tr>\n",
       "      <th>4</th>\n",
       "      <td>1990-01-05</td>\n",
       "      <td>16.93</td>\n",
       "    </tr>\n",
       "  </tbody>\n",
       "</table>\n",
       "</div>"
      ],
      "text/plain": [
       "          ds      y\n",
       "0 1990-01-01  16.96\n",
       "1 1990-01-02  16.96\n",
       "2 1990-01-03  16.99\n",
       "3 1990-01-04  16.94\n",
       "4 1990-01-05  16.93"
      ]
     },
     "execution_count": 34,
     "metadata": {},
     "output_type": "execute_result"
    }
   ],
   "source": [
    "df=df.reset_index()\n",
    "df.head()"
   ]
  },
  {
   "cell_type": "code",
   "execution_count": 35,
   "id": "1297e46e",
   "metadata": {
    "ExecuteTime": {
     "end_time": "2021-08-17T09:07:21.496750Z",
     "start_time": "2021-08-17T09:06:30.517503Z"
    }
   },
   "outputs": [
    {
     "name": "stderr",
     "output_type": "stream",
     "text": [
      "INFO:fbprophet:Disabling daily seasonality. Run prophet with daily_seasonality=True to override this.\n"
     ]
    },
    {
     "data": {
      "text/plain": [
       "<fbprophet.forecaster.Prophet at 0x2a7830c4580>"
      ]
     },
     "execution_count": 35,
     "metadata": {},
     "output_type": "execute_result"
    }
   ],
   "source": [
    "model_= Prophet()\n",
    "model_.fit(df)"
   ]
  },
  {
   "cell_type": "code",
   "execution_count": 36,
   "id": "02425265",
   "metadata": {
    "ExecuteTime": {
     "end_time": "2021-08-17T09:07:21.512727Z",
     "start_time": "2021-08-17T09:07:21.498712Z"
    }
   },
   "outputs": [],
   "source": [
    "future_global=model_.make_future_dataframe(periods=30,freq='D')"
   ]
  },
  {
   "cell_type": "code",
   "execution_count": 37,
   "id": "20056b99",
   "metadata": {
    "ExecuteTime": {
     "end_time": "2021-08-17T09:07:26.152158Z",
     "start_time": "2021-08-17T09:07:21.516670Z"
    }
   },
   "outputs": [
    {
     "data": {
      "text/html": [
       "<div>\n",
       "<style scoped>\n",
       "    .dataframe tbody tr th:only-of-type {\n",
       "        vertical-align: middle;\n",
       "    }\n",
       "\n",
       "    .dataframe tbody tr th {\n",
       "        vertical-align: top;\n",
       "    }\n",
       "\n",
       "    .dataframe thead th {\n",
       "        text-align: right;\n",
       "    }\n",
       "</style>\n",
       "<table border=\"1\" class=\"dataframe\">\n",
       "  <thead>\n",
       "    <tr style=\"text-align: right;\">\n",
       "      <th></th>\n",
       "      <th>ds</th>\n",
       "      <th>trend</th>\n",
       "      <th>yhat_lower</th>\n",
       "      <th>yhat_upper</th>\n",
       "      <th>trend_lower</th>\n",
       "      <th>trend_upper</th>\n",
       "      <th>additive_terms</th>\n",
       "      <th>additive_terms_lower</th>\n",
       "      <th>additive_terms_upper</th>\n",
       "      <th>weekly</th>\n",
       "      <th>weekly_lower</th>\n",
       "      <th>weekly_upper</th>\n",
       "      <th>yearly</th>\n",
       "      <th>yearly_lower</th>\n",
       "      <th>yearly_upper</th>\n",
       "      <th>multiplicative_terms</th>\n",
       "      <th>multiplicative_terms_lower</th>\n",
       "      <th>multiplicative_terms_upper</th>\n",
       "      <th>yhat</th>\n",
       "    </tr>\n",
       "  </thead>\n",
       "  <tbody>\n",
       "    <tr>\n",
       "      <th>0</th>\n",
       "      <td>1990-01-01</td>\n",
       "      <td>16.635797</td>\n",
       "      <td>14.859102</td>\n",
       "      <td>18.352980</td>\n",
       "      <td>16.635797</td>\n",
       "      <td>16.635797</td>\n",
       "      <td>-0.010131</td>\n",
       "      <td>-0.010131</td>\n",
       "      <td>-0.010131</td>\n",
       "      <td>-0.049998</td>\n",
       "      <td>-0.049998</td>\n",
       "      <td>-0.049998</td>\n",
       "      <td>0.039866</td>\n",
       "      <td>0.039866</td>\n",
       "      <td>0.039866</td>\n",
       "      <td>0.0</td>\n",
       "      <td>0.0</td>\n",
       "      <td>0.0</td>\n",
       "      <td>16.625666</td>\n",
       "    </tr>\n",
       "    <tr>\n",
       "      <th>1</th>\n",
       "      <td>1990-01-02</td>\n",
       "      <td>16.641314</td>\n",
       "      <td>14.953746</td>\n",
       "      <td>18.295349</td>\n",
       "      <td>16.641314</td>\n",
       "      <td>16.641314</td>\n",
       "      <td>-0.008074</td>\n",
       "      <td>-0.008074</td>\n",
       "      <td>-0.008074</td>\n",
       "      <td>-0.040976</td>\n",
       "      <td>-0.040976</td>\n",
       "      <td>-0.040976</td>\n",
       "      <td>0.032902</td>\n",
       "      <td>0.032902</td>\n",
       "      <td>0.032902</td>\n",
       "      <td>0.0</td>\n",
       "      <td>0.0</td>\n",
       "      <td>0.0</td>\n",
       "      <td>16.633240</td>\n",
       "    </tr>\n",
       "    <tr>\n",
       "      <th>2</th>\n",
       "      <td>1990-01-03</td>\n",
       "      <td>16.646830</td>\n",
       "      <td>14.907941</td>\n",
       "      <td>18.285399</td>\n",
       "      <td>16.646830</td>\n",
       "      <td>16.646830</td>\n",
       "      <td>-0.022023</td>\n",
       "      <td>-0.022023</td>\n",
       "      <td>-0.022023</td>\n",
       "      <td>-0.047448</td>\n",
       "      <td>-0.047448</td>\n",
       "      <td>-0.047448</td>\n",
       "      <td>0.025425</td>\n",
       "      <td>0.025425</td>\n",
       "      <td>0.025425</td>\n",
       "      <td>0.0</td>\n",
       "      <td>0.0</td>\n",
       "      <td>0.0</td>\n",
       "      <td>16.624807</td>\n",
       "    </tr>\n",
       "    <tr>\n",
       "      <th>3</th>\n",
       "      <td>1990-01-04</td>\n",
       "      <td>16.652346</td>\n",
       "      <td>14.840146</td>\n",
       "      <td>18.232253</td>\n",
       "      <td>16.652346</td>\n",
       "      <td>16.652346</td>\n",
       "      <td>-0.030136</td>\n",
       "      <td>-0.030136</td>\n",
       "      <td>-0.030136</td>\n",
       "      <td>-0.047561</td>\n",
       "      <td>-0.047561</td>\n",
       "      <td>-0.047561</td>\n",
       "      <td>0.017424</td>\n",
       "      <td>0.017424</td>\n",
       "      <td>0.017424</td>\n",
       "      <td>0.0</td>\n",
       "      <td>0.0</td>\n",
       "      <td>0.0</td>\n",
       "      <td>16.622210</td>\n",
       "    </tr>\n",
       "    <tr>\n",
       "      <th>4</th>\n",
       "      <td>1990-01-05</td>\n",
       "      <td>16.657862</td>\n",
       "      <td>14.923408</td>\n",
       "      <td>18.336565</td>\n",
       "      <td>16.657862</td>\n",
       "      <td>16.657862</td>\n",
       "      <td>-0.057561</td>\n",
       "      <td>-0.057561</td>\n",
       "      <td>-0.057561</td>\n",
       "      <td>-0.066466</td>\n",
       "      <td>-0.066466</td>\n",
       "      <td>-0.066466</td>\n",
       "      <td>0.008905</td>\n",
       "      <td>0.008905</td>\n",
       "      <td>0.008905</td>\n",
       "      <td>0.0</td>\n",
       "      <td>0.0</td>\n",
       "      <td>0.0</td>\n",
       "      <td>16.600301</td>\n",
       "    </tr>\n",
       "    <tr>\n",
       "      <th>...</th>\n",
       "      <td>...</td>\n",
       "      <td>...</td>\n",
       "      <td>...</td>\n",
       "      <td>...</td>\n",
       "      <td>...</td>\n",
       "      <td>...</td>\n",
       "      <td>...</td>\n",
       "      <td>...</td>\n",
       "      <td>...</td>\n",
       "      <td>...</td>\n",
       "      <td>...</td>\n",
       "      <td>...</td>\n",
       "      <td>...</td>\n",
       "      <td>...</td>\n",
       "      <td>...</td>\n",
       "      <td>...</td>\n",
       "      <td>...</td>\n",
       "      <td>...</td>\n",
       "      <td>...</td>\n",
       "    </tr>\n",
       "    <tr>\n",
       "      <th>8240</th>\n",
       "      <td>2021-07-21</td>\n",
       "      <td>74.594894</td>\n",
       "      <td>72.744678</td>\n",
       "      <td>76.108253</td>\n",
       "      <td>74.594894</td>\n",
       "      <td>74.594894</td>\n",
       "      <td>-0.086955</td>\n",
       "      <td>-0.086955</td>\n",
       "      <td>-0.086955</td>\n",
       "      <td>-0.047448</td>\n",
       "      <td>-0.047448</td>\n",
       "      <td>-0.047448</td>\n",
       "      <td>-0.039507</td>\n",
       "      <td>-0.039507</td>\n",
       "      <td>-0.039507</td>\n",
       "      <td>0.0</td>\n",
       "      <td>0.0</td>\n",
       "      <td>0.0</td>\n",
       "      <td>74.507939</td>\n",
       "    </tr>\n",
       "    <tr>\n",
       "      <th>8241</th>\n",
       "      <td>2021-07-22</td>\n",
       "      <td>74.599839</td>\n",
       "      <td>72.725566</td>\n",
       "      <td>76.439375</td>\n",
       "      <td>74.599839</td>\n",
       "      <td>74.599839</td>\n",
       "      <td>-0.093997</td>\n",
       "      <td>-0.093997</td>\n",
       "      <td>-0.093997</td>\n",
       "      <td>-0.047561</td>\n",
       "      <td>-0.047561</td>\n",
       "      <td>-0.047561</td>\n",
       "      <td>-0.046437</td>\n",
       "      <td>-0.046437</td>\n",
       "      <td>-0.046437</td>\n",
       "      <td>0.0</td>\n",
       "      <td>0.0</td>\n",
       "      <td>0.0</td>\n",
       "      <td>74.505842</td>\n",
       "    </tr>\n",
       "    <tr>\n",
       "      <th>8242</th>\n",
       "      <td>2021-07-23</td>\n",
       "      <td>74.604784</td>\n",
       "      <td>72.985690</td>\n",
       "      <td>76.212872</td>\n",
       "      <td>74.604784</td>\n",
       "      <td>74.604784</td>\n",
       "      <td>-0.118560</td>\n",
       "      <td>-0.118560</td>\n",
       "      <td>-0.118560</td>\n",
       "      <td>-0.066466</td>\n",
       "      <td>-0.066466</td>\n",
       "      <td>-0.066466</td>\n",
       "      <td>-0.052093</td>\n",
       "      <td>-0.052093</td>\n",
       "      <td>-0.052093</td>\n",
       "      <td>0.0</td>\n",
       "      <td>0.0</td>\n",
       "      <td>0.0</td>\n",
       "      <td>74.486224</td>\n",
       "    </tr>\n",
       "    <tr>\n",
       "      <th>8243</th>\n",
       "      <td>2021-07-24</td>\n",
       "      <td>74.609729</td>\n",
       "      <td>72.940565</td>\n",
       "      <td>76.353265</td>\n",
       "      <td>74.609729</td>\n",
       "      <td>74.609729</td>\n",
       "      <td>0.069869</td>\n",
       "      <td>0.069869</td>\n",
       "      <td>0.069869</td>\n",
       "      <td>0.126224</td>\n",
       "      <td>0.126224</td>\n",
       "      <td>0.126224</td>\n",
       "      <td>-0.056355</td>\n",
       "      <td>-0.056355</td>\n",
       "      <td>-0.056355</td>\n",
       "      <td>0.0</td>\n",
       "      <td>0.0</td>\n",
       "      <td>0.0</td>\n",
       "      <td>74.679598</td>\n",
       "    </tr>\n",
       "    <tr>\n",
       "      <th>8244</th>\n",
       "      <td>2021-07-25</td>\n",
       "      <td>74.614674</td>\n",
       "      <td>72.995887</td>\n",
       "      <td>76.317021</td>\n",
       "      <td>74.614674</td>\n",
       "      <td>74.614674</td>\n",
       "      <td>0.067103</td>\n",
       "      <td>0.067103</td>\n",
       "      <td>0.067103</td>\n",
       "      <td>0.126224</td>\n",
       "      <td>0.126224</td>\n",
       "      <td>0.126224</td>\n",
       "      <td>-0.059121</td>\n",
       "      <td>-0.059121</td>\n",
       "      <td>-0.059121</td>\n",
       "      <td>0.0</td>\n",
       "      <td>0.0</td>\n",
       "      <td>0.0</td>\n",
       "      <td>74.681777</td>\n",
       "    </tr>\n",
       "  </tbody>\n",
       "</table>\n",
       "<p>8245 rows × 19 columns</p>\n",
       "</div>"
      ],
      "text/plain": [
       "             ds      trend  yhat_lower  yhat_upper  trend_lower  trend_upper  \\\n",
       "0    1990-01-01  16.635797   14.859102   18.352980    16.635797    16.635797   \n",
       "1    1990-01-02  16.641314   14.953746   18.295349    16.641314    16.641314   \n",
       "2    1990-01-03  16.646830   14.907941   18.285399    16.646830    16.646830   \n",
       "3    1990-01-04  16.652346   14.840146   18.232253    16.652346    16.652346   \n",
       "4    1990-01-05  16.657862   14.923408   18.336565    16.657862    16.657862   \n",
       "...         ...        ...         ...         ...          ...          ...   \n",
       "8240 2021-07-21  74.594894   72.744678   76.108253    74.594894    74.594894   \n",
       "8241 2021-07-22  74.599839   72.725566   76.439375    74.599839    74.599839   \n",
       "8242 2021-07-23  74.604784   72.985690   76.212872    74.604784    74.604784   \n",
       "8243 2021-07-24  74.609729   72.940565   76.353265    74.609729    74.609729   \n",
       "8244 2021-07-25  74.614674   72.995887   76.317021    74.614674    74.614674   \n",
       "\n",
       "      additive_terms  additive_terms_lower  additive_terms_upper    weekly  \\\n",
       "0          -0.010131             -0.010131             -0.010131 -0.049998   \n",
       "1          -0.008074             -0.008074             -0.008074 -0.040976   \n",
       "2          -0.022023             -0.022023             -0.022023 -0.047448   \n",
       "3          -0.030136             -0.030136             -0.030136 -0.047561   \n",
       "4          -0.057561             -0.057561             -0.057561 -0.066466   \n",
       "...              ...                   ...                   ...       ...   \n",
       "8240       -0.086955             -0.086955             -0.086955 -0.047448   \n",
       "8241       -0.093997             -0.093997             -0.093997 -0.047561   \n",
       "8242       -0.118560             -0.118560             -0.118560 -0.066466   \n",
       "8243        0.069869              0.069869              0.069869  0.126224   \n",
       "8244        0.067103              0.067103              0.067103  0.126224   \n",
       "\n",
       "      weekly_lower  weekly_upper    yearly  yearly_lower  yearly_upper  \\\n",
       "0        -0.049998     -0.049998  0.039866      0.039866      0.039866   \n",
       "1        -0.040976     -0.040976  0.032902      0.032902      0.032902   \n",
       "2        -0.047448     -0.047448  0.025425      0.025425      0.025425   \n",
       "3        -0.047561     -0.047561  0.017424      0.017424      0.017424   \n",
       "4        -0.066466     -0.066466  0.008905      0.008905      0.008905   \n",
       "...            ...           ...       ...           ...           ...   \n",
       "8240     -0.047448     -0.047448 -0.039507     -0.039507     -0.039507   \n",
       "8241     -0.047561     -0.047561 -0.046437     -0.046437     -0.046437   \n",
       "8242     -0.066466     -0.066466 -0.052093     -0.052093     -0.052093   \n",
       "8243      0.126224      0.126224 -0.056355     -0.056355     -0.056355   \n",
       "8244      0.126224      0.126224 -0.059121     -0.059121     -0.059121   \n",
       "\n",
       "      multiplicative_terms  multiplicative_terms_lower  \\\n",
       "0                      0.0                         0.0   \n",
       "1                      0.0                         0.0   \n",
       "2                      0.0                         0.0   \n",
       "3                      0.0                         0.0   \n",
       "4                      0.0                         0.0   \n",
       "...                    ...                         ...   \n",
       "8240                   0.0                         0.0   \n",
       "8241                   0.0                         0.0   \n",
       "8242                   0.0                         0.0   \n",
       "8243                   0.0                         0.0   \n",
       "8244                   0.0                         0.0   \n",
       "\n",
       "      multiplicative_terms_upper       yhat  \n",
       "0                            0.0  16.625666  \n",
       "1                            0.0  16.633240  \n",
       "2                            0.0  16.624807  \n",
       "3                            0.0  16.622210  \n",
       "4                            0.0  16.600301  \n",
       "...                          ...        ...  \n",
       "8240                         0.0  74.507939  \n",
       "8241                         0.0  74.505842  \n",
       "8242                         0.0  74.486224  \n",
       "8243                         0.0  74.679598  \n",
       "8244                         0.0  74.681777  \n",
       "\n",
       "[8245 rows x 19 columns]"
      ]
     },
     "execution_count": 37,
     "metadata": {},
     "output_type": "execute_result"
    }
   ],
   "source": [
    "prediction=model_.predict(future_global)\n",
    "prediction"
   ]
  },
  {
   "cell_type": "code",
   "execution_count": 38,
   "id": "a93f8621",
   "metadata": {
    "ExecuteTime": {
     "end_time": "2021-08-17T09:07:26.168083Z",
     "start_time": "2021-08-17T09:07:26.153156Z"
    },
    "scrolled": false
   },
   "outputs": [
    {
     "data": {
      "text/html": [
       "<div>\n",
       "<style scoped>\n",
       "    .dataframe tbody tr th:only-of-type {\n",
       "        vertical-align: middle;\n",
       "    }\n",
       "\n",
       "    .dataframe tbody tr th {\n",
       "        vertical-align: top;\n",
       "    }\n",
       "\n",
       "    .dataframe thead th {\n",
       "        text-align: right;\n",
       "    }\n",
       "</style>\n",
       "<table border=\"1\" class=\"dataframe\">\n",
       "  <thead>\n",
       "    <tr style=\"text-align: right;\">\n",
       "      <th></th>\n",
       "      <th>ds</th>\n",
       "      <th>yhat</th>\n",
       "      <th>yhat_lower</th>\n",
       "      <th>yhat_upper</th>\n",
       "    </tr>\n",
       "  </thead>\n",
       "  <tbody>\n",
       "    <tr>\n",
       "      <th>8240</th>\n",
       "      <td>2021-07-21</td>\n",
       "      <td>74.507939</td>\n",
       "      <td>72.744678</td>\n",
       "      <td>76.108253</td>\n",
       "    </tr>\n",
       "    <tr>\n",
       "      <th>8241</th>\n",
       "      <td>2021-07-22</td>\n",
       "      <td>74.505842</td>\n",
       "      <td>72.725566</td>\n",
       "      <td>76.439375</td>\n",
       "    </tr>\n",
       "    <tr>\n",
       "      <th>8242</th>\n",
       "      <td>2021-07-23</td>\n",
       "      <td>74.486224</td>\n",
       "      <td>72.985690</td>\n",
       "      <td>76.212872</td>\n",
       "    </tr>\n",
       "    <tr>\n",
       "      <th>8243</th>\n",
       "      <td>2021-07-24</td>\n",
       "      <td>74.679598</td>\n",
       "      <td>72.940565</td>\n",
       "      <td>76.353265</td>\n",
       "    </tr>\n",
       "    <tr>\n",
       "      <th>8244</th>\n",
       "      <td>2021-07-25</td>\n",
       "      <td>74.681777</td>\n",
       "      <td>72.995887</td>\n",
       "      <td>76.317021</td>\n",
       "    </tr>\n",
       "  </tbody>\n",
       "</table>\n",
       "</div>"
      ],
      "text/plain": [
       "             ds       yhat  yhat_lower  yhat_upper\n",
       "8240 2021-07-21  74.507939   72.744678   76.108253\n",
       "8241 2021-07-22  74.505842   72.725566   76.439375\n",
       "8242 2021-07-23  74.486224   72.985690   76.212872\n",
       "8243 2021-07-24  74.679598   72.940565   76.353265\n",
       "8244 2021-07-25  74.681777   72.995887   76.317021"
      ]
     },
     "execution_count": 38,
     "metadata": {},
     "output_type": "execute_result"
    }
   ],
   "source": [
    "prediction[['ds','yhat','yhat_lower','yhat_upper']].tail()"
   ]
  },
  {
   "cell_type": "code",
   "execution_count": 39,
   "id": "3d99bd54",
   "metadata": {
    "ExecuteTime": {
     "end_time": "2021-08-17T09:07:26.215988Z",
     "start_time": "2021-08-17T09:07:26.170076Z"
    }
   },
   "outputs": [],
   "source": [
    "from fbprophet.plot import add_changepoints_to_plot"
   ]
  },
  {
   "cell_type": "code",
   "execution_count": 40,
   "id": "46251871",
   "metadata": {
    "ExecuteTime": {
     "end_time": "2021-08-17T09:07:26.565044Z",
     "start_time": "2021-08-17T09:07:26.216983Z"
    }
   },
   "outputs": [
    {
     "data": {
      "image/png": "[encoded data removed]",
      "text/plain": [
       "<Figure size 720x432 with 1 Axes>"
      ]
     },
     "metadata": {},
     "output_type": "display_data"
    }
   ],
   "source": [
    "fig=model.plot(prediction)\n",
    "a=add_changepoints_to_plot(fig.gca(),model_,prediction)"
   ]
  },
  {
   "cell_type": "code",
   "execution_count": 41,
   "id": "3459cbf9",
   "metadata": {
    "ExecuteTime": {
     "end_time": "2021-08-17T09:07:26.580641Z",
     "start_time": "2021-08-17T09:07:26.566017Z"
    }
   },
   "outputs": [
    {
     "data": {
      "text/plain": [
       "263    1991-01-03\n",
       "526    1992-01-07\n",
       "789    1993-01-08\n",
       "1051   1994-01-11\n",
       "1314   1995-01-13\n",
       "1577   1996-01-17\n",
       "1840   1997-01-20\n",
       "2103   1998-01-22\n",
       "2366   1999-01-26\n",
       "2628   2000-01-27\n",
       "2891   2001-01-30\n",
       "3154   2002-02-01\n",
       "3417   2003-02-05\n",
       "3680   2004-02-09\n",
       "3943   2005-02-10\n",
       "4205   2006-02-13\n",
       "4468   2007-02-15\n",
       "4731   2008-02-19\n",
       "4994   2009-02-20\n",
       "5257   2010-02-24\n",
       "5520   2011-02-28\n",
       "5782   2012-02-29\n",
       "6045   2013-03-04\n",
       "6308   2014-03-06\n",
       "6571   2015-03-10\n",
       "Name: ds, dtype: datetime64[ns]"
      ]
     },
     "execution_count": 41,
     "metadata": {},
     "output_type": "execute_result"
    }
   ],
   "source": [
    "model_.changepoints"
   ]
  },
  {
   "cell_type": "markdown",
   "id": "1ca09d4f",
   "metadata": {},
   "source": [
    "## Plotting prediction vs actuals "
   ]
  },
  {
   "cell_type": "code",
   "execution_count": 42,
   "id": "cb9aa5a7",
   "metadata": {
    "ExecuteTime": {
     "end_time": "2021-08-17T09:07:26.927105Z",
     "start_time": "2021-08-17T09:07:26.582638Z"
    }
   },
   "outputs": [
    {
     "data": {
      "image/png": "[encoded data removed]",
      "text/plain": [
       "<Figure size 1080x360 with 1 Axes>"
      ]
     },
     "metadata": {
      "needs_background": "light"
     },
     "output_type": "display_data"
    }
   ],
   "source": [
    "# Plot the forecast\n",
    "#prior scale 0.05\n",
    "f, ax = plt.subplots(1)\n",
    "f.set_figheight(5)\n",
    "f.set_figwidth(15)\n",
    "fig = model_.plot(prediction,\n",
    "                 ax=ax)\n",
    "plt.show()"
   ]
  },
  {
   "cell_type": "markdown",
   "id": "8d859e41",
   "metadata": {},
   "source": [
    "The light blue is the uncertainty level(yhat_upper and yhat_lower), the dark blue is the prediction(yhat) and the black dots are the original data. We can see that the predicted data is very close to the actual data. In the last 30 daya, there is no “actual” data, but looking at the performance of our model in years where data is available it is safe to say that the predictions are close to accurate."
   ]
  },
  {
   "cell_type": "code",
   "execution_count": 43,
   "id": "931a7fcb",
   "metadata": {
    "ExecuteTime": {
     "end_time": "2021-08-17T09:07:27.522644Z",
     "start_time": "2021-08-17T09:07:26.929089Z"
    }
   },
   "outputs": [
    {
     "data": {
      "image/png": "[encoded data removed]",
      "text/plain": [
       "<Figure size 648x648 with 3 Axes>"
      ]
     },
     "metadata": {},
     "output_type": "display_data"
    }
   ],
   "source": [
    "# Plot the components of the model\n",
    "fig = model_.plot_components(prediction)"
   ]
  },
  {
   "cell_type": "code",
   "execution_count": 44,
   "id": "f6b77373",
   "metadata": {
    "ExecuteTime": {
     "end_time": "2021-08-17T09:07:27.599438Z",
     "start_time": "2021-08-17T09:07:27.524637Z"
    }
   },
   "outputs": [
    {
     "data": {
      "text/html": [
       "<div>\n",
       "<style scoped>\n",
       "    .dataframe tbody tr th:only-of-type {\n",
       "        vertical-align: middle;\n",
       "    }\n",
       "\n",
       "    .dataframe tbody tr th {\n",
       "        vertical-align: top;\n",
       "    }\n",
       "\n",
       "    .dataframe thead th {\n",
       "        text-align: right;\n",
       "    }\n",
       "</style>\n",
       "<table border=\"1\" class=\"dataframe\">\n",
       "  <thead>\n",
       "    <tr style=\"text-align: right;\">\n",
       "      <th></th>\n",
       "      <th>ds</th>\n",
       "      <th>yhat</th>\n",
       "      <th>y</th>\n",
       "    </tr>\n",
       "  </thead>\n",
       "  <tbody>\n",
       "    <tr>\n",
       "      <th>8240</th>\n",
       "      <td>2021-07-21</td>\n",
       "      <td>74.507939</td>\n",
       "      <td>NaN</td>\n",
       "    </tr>\n",
       "    <tr>\n",
       "      <th>8241</th>\n",
       "      <td>2021-07-22</td>\n",
       "      <td>74.505842</td>\n",
       "      <td>NaN</td>\n",
       "    </tr>\n",
       "    <tr>\n",
       "      <th>8242</th>\n",
       "      <td>2021-07-23</td>\n",
       "      <td>74.486224</td>\n",
       "      <td>NaN</td>\n",
       "    </tr>\n",
       "    <tr>\n",
       "      <th>8243</th>\n",
       "      <td>2021-07-24</td>\n",
       "      <td>74.679598</td>\n",
       "      <td>NaN</td>\n",
       "    </tr>\n",
       "    <tr>\n",
       "      <th>8244</th>\n",
       "      <td>2021-07-25</td>\n",
       "      <td>74.681777</td>\n",
       "      <td>NaN</td>\n",
       "    </tr>\n",
       "  </tbody>\n",
       "</table>\n",
       "</div>"
      ],
      "text/plain": [
       "             ds       yhat   y\n",
       "8240 2021-07-21  74.507939 NaN\n",
       "8241 2021-07-22  74.505842 NaN\n",
       "8242 2021-07-23  74.486224 NaN\n",
       "8243 2021-07-24  74.679598 NaN\n",
       "8244 2021-07-25  74.681777 NaN"
      ]
     },
     "execution_count": 44,
     "metadata": {},
     "output_type": "execute_result"
    }
   ],
   "source": [
    "metric_df = prediction.set_index('ds')[['yhat']].join(df.set_index('ds').y).reset_index()\n",
    "metric_df.tail()"
   ]
  },
  {
   "cell_type": "code",
   "execution_count": 45,
   "id": "da962b67",
   "metadata": {
    "ExecuteTime": {
     "end_time": "2021-08-17T09:07:27.614431Z",
     "start_time": "2021-08-17T09:07:27.601434Z"
    }
   },
   "outputs": [],
   "source": [
    "metric_df.dropna(inplace=True)"
   ]
  },
  {
   "cell_type": "code",
   "execution_count": 46,
   "id": "d2e0e8ab",
   "metadata": {
    "ExecuteTime": {
     "end_time": "2021-08-17T09:07:27.646314Z",
     "start_time": "2021-08-17T09:07:27.616394Z"
    }
   },
   "outputs": [
    {
     "data": {
      "text/plain": [
       "2.015558806602295"
      ]
     },
     "execution_count": 46,
     "metadata": {},
     "output_type": "execute_result"
    }
   ],
   "source": [
    "def mean_absolute_percentage_error(y_true, y_pred): \n",
    "    \"\"\"Calculates MAPE given y_true and y_pred\"\"\"\n",
    "    y_true, y_pred = np.array(y_true), np.array(y_pred)\n",
    "    return np.mean(np.abs((y_true - y_pred) / y_true)) * 100\n",
    "\n",
    "mean_absolute_percentage_error(y_true=metric_df['y'],y_pred=metric_df['yhat'])"
   ]
  },
  {
   "cell_type": "markdown",
   "id": "8464747e",
   "metadata": {},
   "source": [
    "# CROSS VALIDATION"
   ]
  },
  {
   "cell_type": "code",
   "execution_count": 47,
   "id": "8473e1c0",
   "metadata": {
    "ExecuteTime": {
     "end_time": "2021-08-17T09:07:27.678227Z",
     "start_time": "2021-08-17T09:07:27.648306Z"
    }
   },
   "outputs": [],
   "source": [
    "from fbprophet.diagnostics import cross_validation"
   ]
  },
  {
   "cell_type": "code",
   "execution_count": 57,
   "id": "3d406730",
   "metadata": {
    "ExecuteTime": {
     "end_time": "2021-08-17T09:45:16.749575Z",
     "start_time": "2021-08-17T09:39:12.113112Z"
    }
   },
   "outputs": [
    {
     "name": "stderr",
     "output_type": "stream",
     "text": [
      "INFO:fbprophet:Making 8 forecasts with cutoffs between 2015-01-11 00:00:00 and 2018-06-24 00:00:00\n"
     ]
    },
    {
     "data": {
      "application/vnd.jupyter.widget-view+json": {
       "model_id": "c05388392a6645ce8e46b1857364dfce",
       "version_major": 2,
       "version_minor": 0
      },
      "text/plain": [
       "  0%|          | 0/8 [00:00<?, ?it/s]"
      ]
     },
     "metadata": {},
     "output_type": "display_data"
    }
   ],
   "source": [
    "df_cv=cross_validation(model,initial=' 9000 days',period='180 days',horizon='365 days')"
   ]
  },
  {
   "cell_type": "code",
   "execution_count": 58,
   "id": "0e97d2d3",
   "metadata": {
    "ExecuteTime": {
     "end_time": "2021-08-17T09:45:22.472734Z",
     "start_time": "2021-08-17T09:45:22.451791Z"
    }
   },
   "outputs": [
    {
     "data": {
      "text/html": [
       "<div>\n",
       "<style scoped>\n",
       "    .dataframe tbody tr th:only-of-type {\n",
       "        vertical-align: middle;\n",
       "    }\n",
       "\n",
       "    .dataframe tbody tr th {\n",
       "        vertical-align: top;\n",
       "    }\n",
       "\n",
       "    .dataframe thead th {\n",
       "        text-align: right;\n",
       "    }\n",
       "</style>\n",
       "<table border=\"1\" class=\"dataframe\">\n",
       "  <thead>\n",
       "    <tr style=\"text-align: right;\">\n",
       "      <th></th>\n",
       "      <th>ds</th>\n",
       "      <th>yhat</th>\n",
       "      <th>yhat_lower</th>\n",
       "      <th>yhat_upper</th>\n",
       "      <th>y</th>\n",
       "      <th>cutoff</th>\n",
       "    </tr>\n",
       "  </thead>\n",
       "  <tbody>\n",
       "    <tr>\n",
       "      <th>0</th>\n",
       "      <td>2015-01-12</td>\n",
       "      <td>63.553705</td>\n",
       "      <td>61.900314</td>\n",
       "      <td>65.232328</td>\n",
       "      <td>62.09</td>\n",
       "      <td>2015-01-11</td>\n",
       "    </tr>\n",
       "    <tr>\n",
       "      <th>1</th>\n",
       "      <td>2015-01-13</td>\n",
       "      <td>63.559133</td>\n",
       "      <td>61.962612</td>\n",
       "      <td>65.074309</td>\n",
       "      <td>61.97</td>\n",
       "      <td>2015-01-11</td>\n",
       "    </tr>\n",
       "    <tr>\n",
       "      <th>2</th>\n",
       "      <td>2015-01-14</td>\n",
       "      <td>63.550298</td>\n",
       "      <td>61.949074</td>\n",
       "      <td>65.085273</td>\n",
       "      <td>62.09</td>\n",
       "      <td>2015-01-11</td>\n",
       "    </tr>\n",
       "    <tr>\n",
       "      <th>3</th>\n",
       "      <td>2015-01-15</td>\n",
       "      <td>63.547916</td>\n",
       "      <td>61.950966</td>\n",
       "      <td>65.180195</td>\n",
       "      <td>62.06</td>\n",
       "      <td>2015-01-11</td>\n",
       "    </tr>\n",
       "    <tr>\n",
       "      <th>4</th>\n",
       "      <td>2015-01-16</td>\n",
       "      <td>63.524659</td>\n",
       "      <td>62.030469</td>\n",
       "      <td>65.186914</td>\n",
       "      <td>61.87</td>\n",
       "      <td>2015-01-11</td>\n",
       "    </tr>\n",
       "    <tr>\n",
       "      <th>...</th>\n",
       "      <td>...</td>\n",
       "      <td>...</td>\n",
       "      <td>...</td>\n",
       "      <td>...</td>\n",
       "      <td>...</td>\n",
       "      <td>...</td>\n",
       "    </tr>\n",
       "    <tr>\n",
       "      <th>2081</th>\n",
       "      <td>2019-06-18</td>\n",
       "      <td>70.475302</td>\n",
       "      <td>67.466615</td>\n",
       "      <td>73.322886</td>\n",
       "      <td>69.60</td>\n",
       "      <td>2018-06-24</td>\n",
       "    </tr>\n",
       "    <tr>\n",
       "      <th>2082</th>\n",
       "      <td>2019-06-19</td>\n",
       "      <td>70.487050</td>\n",
       "      <td>67.614617</td>\n",
       "      <td>73.424861</td>\n",
       "      <td>69.64</td>\n",
       "      <td>2018-06-24</td>\n",
       "    </tr>\n",
       "    <tr>\n",
       "      <th>2083</th>\n",
       "      <td>2019-06-20</td>\n",
       "      <td>70.506403</td>\n",
       "      <td>67.404446</td>\n",
       "      <td>73.482793</td>\n",
       "      <td>69.44</td>\n",
       "      <td>2018-06-24</td>\n",
       "    </tr>\n",
       "    <tr>\n",
       "      <th>2084</th>\n",
       "      <td>2019-06-21</td>\n",
       "      <td>70.506350</td>\n",
       "      <td>67.421377</td>\n",
       "      <td>73.528412</td>\n",
       "      <td>69.59</td>\n",
       "      <td>2018-06-24</td>\n",
       "    </tr>\n",
       "    <tr>\n",
       "      <th>2085</th>\n",
       "      <td>2019-06-24</td>\n",
       "      <td>70.578097</td>\n",
       "      <td>67.425953</td>\n",
       "      <td>73.574779</td>\n",
       "      <td>69.32</td>\n",
       "      <td>2018-06-24</td>\n",
       "    </tr>\n",
       "  </tbody>\n",
       "</table>\n",
       "<p>2086 rows × 6 columns</p>\n",
       "</div>"
      ],
      "text/plain": [
       "             ds       yhat  yhat_lower  yhat_upper      y     cutoff\n",
       "0    2015-01-12  63.553705   61.900314   65.232328  62.09 2015-01-11\n",
       "1    2015-01-13  63.559133   61.962612   65.074309  61.97 2015-01-11\n",
       "2    2015-01-14  63.550298   61.949074   65.085273  62.09 2015-01-11\n",
       "3    2015-01-15  63.547916   61.950966   65.180195  62.06 2015-01-11\n",
       "4    2015-01-16  63.524659   62.030469   65.186914  61.87 2015-01-11\n",
       "...         ...        ...         ...         ...    ...        ...\n",
       "2081 2019-06-18  70.475302   67.466615   73.322886  69.60 2018-06-24\n",
       "2082 2019-06-19  70.487050   67.614617   73.424861  69.64 2018-06-24\n",
       "2083 2019-06-20  70.506403   67.404446   73.482793  69.44 2018-06-24\n",
       "2084 2019-06-21  70.506350   67.421377   73.528412  69.59 2018-06-24\n",
       "2085 2019-06-24  70.578097   67.425953   73.574779  69.32 2018-06-24\n",
       "\n",
       "[2086 rows x 6 columns]"
      ]
     },
     "execution_count": 58,
     "metadata": {},
     "output_type": "execute_result"
    }
   ],
   "source": [
    "df_cv"
   ]
  },
  {
   "cell_type": "code",
   "execution_count": 59,
   "id": "82fd963c",
   "metadata": {
    "ExecuteTime": {
     "end_time": "2021-08-17T09:45:22.953910Z",
     "start_time": "2021-08-17T09:45:22.939949Z"
    }
   },
   "outputs": [],
   "source": [
    "from fbprophet.diagnostics import performance_metrics"
   ]
  },
  {
   "cell_type": "code",
   "execution_count": 60,
   "id": "bf0918a3",
   "metadata": {
    "ExecuteTime": {
     "end_time": "2021-08-17T09:45:24.163374Z",
     "start_time": "2021-08-17T09:45:23.509798Z"
    }
   },
   "outputs": [
    {
     "data": {
      "text/html": [
       "<div>\n",
       "<style scoped>\n",
       "    .dataframe tbody tr th:only-of-type {\n",
       "        vertical-align: middle;\n",
       "    }\n",
       "\n",
       "    .dataframe tbody tr th {\n",
       "        vertical-align: top;\n",
       "    }\n",
       "\n",
       "    .dataframe thead th {\n",
       "        text-align: right;\n",
       "    }\n",
       "</style>\n",
       "<table border=\"1\" class=\"dataframe\">\n",
       "  <thead>\n",
       "    <tr style=\"text-align: right;\">\n",
       "      <th></th>\n",
       "      <th>horizon</th>\n",
       "      <th>mse</th>\n",
       "      <th>rmse</th>\n",
       "      <th>mae</th>\n",
       "      <th>mape</th>\n",
       "      <th>mdape</th>\n",
       "      <th>coverage</th>\n",
       "    </tr>\n",
       "  </thead>\n",
       "  <tbody>\n",
       "    <tr>\n",
       "      <th>0</th>\n",
       "      <td>37 days</td>\n",
       "      <td>10.059526</td>\n",
       "      <td>3.171676</td>\n",
       "      <td>2.512598</td>\n",
       "      <td>0.038855</td>\n",
       "      <td>0.033109</td>\n",
       "      <td>0.322115</td>\n",
       "    </tr>\n",
       "    <tr>\n",
       "      <th>1</th>\n",
       "      <td>38 days</td>\n",
       "      <td>10.070975</td>\n",
       "      <td>3.173480</td>\n",
       "      <td>2.517047</td>\n",
       "      <td>0.038919</td>\n",
       "      <td>0.033109</td>\n",
       "      <td>0.322115</td>\n",
       "    </tr>\n",
       "    <tr>\n",
       "      <th>2</th>\n",
       "      <td>39 days</td>\n",
       "      <td>10.190207</td>\n",
       "      <td>3.192210</td>\n",
       "      <td>2.531513</td>\n",
       "      <td>0.039140</td>\n",
       "      <td>0.033289</td>\n",
       "      <td>0.320513</td>\n",
       "    </tr>\n",
       "    <tr>\n",
       "      <th>3</th>\n",
       "      <td>40 days</td>\n",
       "      <td>10.270996</td>\n",
       "      <td>3.204839</td>\n",
       "      <td>2.531961</td>\n",
       "      <td>0.039153</td>\n",
       "      <td>0.032986</td>\n",
       "      <td>0.330128</td>\n",
       "    </tr>\n",
       "    <tr>\n",
       "      <th>4</th>\n",
       "      <td>41 days</td>\n",
       "      <td>10.484621</td>\n",
       "      <td>3.237996</td>\n",
       "      <td>2.558805</td>\n",
       "      <td>0.039570</td>\n",
       "      <td>0.033109</td>\n",
       "      <td>0.331731</td>\n",
       "    </tr>\n",
       "  </tbody>\n",
       "</table>\n",
       "</div>"
      ],
      "text/plain": [
       "  horizon        mse      rmse       mae      mape     mdape  coverage\n",
       "0 37 days  10.059526  3.171676  2.512598  0.038855  0.033109  0.322115\n",
       "1 38 days  10.070975  3.173480  2.517047  0.038919  0.033109  0.322115\n",
       "2 39 days  10.190207  3.192210  2.531513  0.039140  0.033289  0.320513\n",
       "3 40 days  10.270996  3.204839  2.531961  0.039153  0.032986  0.330128\n",
       "4 41 days  10.484621  3.237996  2.558805  0.039570  0.033109  0.331731"
      ]
     },
     "execution_count": 60,
     "metadata": {},
     "output_type": "execute_result"
    }
   ],
   "source": [
    "df_p=performance_metrics(df_cv)\n",
    "df_p.head()"
   ]
  },
  {
   "cell_type": "code",
   "execution_count": 61,
   "id": "6eb577ca",
   "metadata": {
    "ExecuteTime": {
     "end_time": "2021-08-17T09:45:24.552471Z",
     "start_time": "2021-08-17T09:45:24.540516Z"
    }
   },
   "outputs": [
    {
     "data": {
      "text/plain": [
       "horizon     201 days 00:00:00\n",
       "mse                 18.626618\n",
       "rmse                 4.278982\n",
       "mae                  3.460599\n",
       "mape                 0.052642\n",
       "mdape                0.043058\n",
       "coverage             0.376447\n",
       "dtype: object"
      ]
     },
     "execution_count": 61,
     "metadata": {},
     "output_type": "execute_result"
    }
   ],
   "source": [
    "df_p.mean()"
   ]
  },
  {
   "cell_type": "code",
   "execution_count": 62,
   "id": "c3f8e280",
   "metadata": {
    "ExecuteTime": {
     "end_time": "2021-08-17T09:45:24.930273Z",
     "start_time": "2021-08-17T09:45:24.916770Z"
    }
   },
   "outputs": [],
   "source": [
    "from fbprophet.plot import plot_cross_validation_metric"
   ]
  },
  {
   "cell_type": "code",
   "execution_count": 64,
   "id": "9032869f",
   "metadata": {
    "ExecuteTime": {
     "end_time": "2021-08-17T09:45:47.771031Z",
     "start_time": "2021-08-17T09:45:47.551977Z"
    }
   },
   "outputs": [
    {
     "name": "stderr",
     "output_type": "stream",
     "text": [
      "C:\\Users\\MMM-SM\\anaconda3\\envs\\forecasting project\\lib\\site-packages\\fbprophet\\plot.py:526: FutureWarning: casting timedelta64[ns] values to int64 with .astype(...) is deprecated and will raise in a future version. Use .view(...) instead.\n",
      "  x_plt = df_none['horizon'].astype('timedelta64[ns]').astype(np.int64) / float(dt_conversions[i])\n",
      "C:\\Users\\MMM-SM\\anaconda3\\envs\\forecasting project\\lib\\site-packages\\fbprophet\\plot.py:527: FutureWarning: casting timedelta64[ns] values to int64 with .astype(...) is deprecated and will raise in a future version. Use .view(...) instead.\n",
      "  x_plt_h = df_h['horizon'].astype('timedelta64[ns]').astype(np.int64) / float(dt_conversions[i])\n"
     ]
    },
    {
     "data": {
      "image/png": "[encoded data removed]",
      "text/plain": [
       "<Figure size 720x432 with 1 Axes>"
      ]
     },
     "metadata": {},
     "output_type": "display_data"
    }
   ],
   "source": [
    "plot_cross_validation_metric(df_cv, metric='mape')\n",
    "plt.show()"
   ]
  },
  {
   "cell_type": "markdown",
   "id": "21d4d922",
   "metadata": {},
   "source": [
    "# HyperParameter Tuning using ParameterGrid"
   ]
  },
  {
   "cell_type": "markdown",
   "id": "188310cf",
   "metadata": {},
   "source": [
    "* `n_changepoints`- is the number of change happen in the data. Prophet model detects them by its own. By default, its value is 25, which are uniformly placed in the first 80% of the time series.\n",
    "\n",
    "* `changepoint_prior_scale` - to indicate how flexible the changepoints are allowed to be. In other words, how much can the changepoints fit to the data. If you make it high it will be more flexible, but you can end up overfitting. By default, this parameter is set to 0.05"
   ]
  },
  {
   "cell_type": "code",
   "execution_count": 97,
   "id": "1ec7a799",
   "metadata": {
    "ExecuteTime": {
     "end_time": "2021-08-17T10:05:39.256365Z",
     "start_time": "2021-08-17T10:05:39.235741Z"
    }
   },
   "outputs": [],
   "source": [
    "import random"
   ]
  },
  {
   "cell_type": "code",
   "execution_count": 98,
   "id": "15c496f0",
   "metadata": {
    "ExecuteTime": {
     "end_time": "2021-08-17T10:05:39.525976Z",
     "start_time": "2021-08-17T10:05:39.261245Z"
    }
   },
   "outputs": [
    {
     "name": "stdout",
     "output_type": "stream",
     "text": [
      "Total Possible Models 20\n"
     ]
    }
   ],
   "source": [
    "from sklearn.model_selection import ParameterGrid\n",
    "params_grid = {'changepoint_prior_scale':[0.05,0.095,0.1,0.2],'n_changepoints' : [30,35,40,45,50]}\n",
    "grid = ParameterGrid(params_grid)\n",
    "cnt = 0\n",
    "for p in grid:\n",
    "    cnt = cnt+1\n",
    "\n",
    "print('Total Possible Models',cnt)"
   ]
  },
  {
   "cell_type": "markdown",
   "id": "1fe92195",
   "metadata": {},
   "source": [
    "# Prophet Model Tuning"
   ]
  },
  {
   "cell_type": "code",
   "execution_count": 99,
   "id": "1d195557",
   "metadata": {
    "ExecuteTime": {
     "end_time": "2021-08-17T10:05:39.569110Z",
     "start_time": "2021-08-17T10:05:39.528714Z"
    },
    "scrolled": true
   },
   "outputs": [
    {
     "data": {
      "text/html": [
       "<div>\n",
       "<style scoped>\n",
       "    .dataframe tbody tr th:only-of-type {\n",
       "        vertical-align: middle;\n",
       "    }\n",
       "\n",
       "    .dataframe tbody tr th {\n",
       "        vertical-align: top;\n",
       "    }\n",
       "\n",
       "    .dataframe thead th {\n",
       "        text-align: right;\n",
       "    }\n",
       "</style>\n",
       "<table border=\"1\" class=\"dataframe\">\n",
       "  <thead>\n",
       "    <tr style=\"text-align: right;\">\n",
       "      <th></th>\n",
       "      <th>level_0</th>\n",
       "      <th>index</th>\n",
       "      <th>ds</th>\n",
       "      <th>y</th>\n",
       "      <th>date</th>\n",
       "      <th>is_holiday</th>\n",
       "    </tr>\n",
       "  </thead>\n",
       "  <tbody>\n",
       "    <tr>\n",
       "      <th>0</th>\n",
       "      <td>0</td>\n",
       "      <td>0</td>\n",
       "      <td>1990-01-01</td>\n",
       "      <td>16.96</td>\n",
       "      <td>1990-01-01</td>\n",
       "      <td>True</td>\n",
       "    </tr>\n",
       "    <tr>\n",
       "      <th>1</th>\n",
       "      <td>1</td>\n",
       "      <td>1</td>\n",
       "      <td>1990-01-02</td>\n",
       "      <td>16.96</td>\n",
       "      <td>1990-01-02</td>\n",
       "      <td>False</td>\n",
       "    </tr>\n",
       "    <tr>\n",
       "      <th>2</th>\n",
       "      <td>2</td>\n",
       "      <td>2</td>\n",
       "      <td>1990-01-03</td>\n",
       "      <td>16.99</td>\n",
       "      <td>1990-01-03</td>\n",
       "      <td>False</td>\n",
       "    </tr>\n",
       "    <tr>\n",
       "      <th>3</th>\n",
       "      <td>3</td>\n",
       "      <td>3</td>\n",
       "      <td>1990-01-04</td>\n",
       "      <td>16.94</td>\n",
       "      <td>1990-01-04</td>\n",
       "      <td>False</td>\n",
       "    </tr>\n",
       "    <tr>\n",
       "      <th>4</th>\n",
       "      <td>4</td>\n",
       "      <td>4</td>\n",
       "      <td>1990-01-05</td>\n",
       "      <td>16.93</td>\n",
       "      <td>1990-01-05</td>\n",
       "      <td>False</td>\n",
       "    </tr>\n",
       "  </tbody>\n",
       "</table>\n",
       "</div>"
      ],
      "text/plain": [
       "   level_0  index         ds      y        date  is_holiday\n",
       "0        0      0 1990-01-01  16.96  1990-01-01        True\n",
       "1        1      1 1990-01-02  16.96  1990-01-02       False\n",
       "2        2      2 1990-01-03  16.99  1990-01-03       False\n",
       "3        3      3 1990-01-04  16.94  1990-01-04       False\n",
       "4        4      4 1990-01-05  16.93  1990-01-05       False"
      ]
     },
     "execution_count": 99,
     "metadata": {},
     "output_type": "execute_result"
    }
   ],
   "source": [
    "df=df.reset_index()\n",
    "df.head()"
   ]
  },
  {
   "cell_type": "code",
   "execution_count": 100,
   "id": "873ed69a",
   "metadata": {
    "ExecuteTime": {
     "end_time": "2021-08-17T10:05:39.593718Z",
     "start_time": "2021-08-17T10:05:39.569110Z"
    }
   },
   "outputs": [],
   "source": [
    "train=train.reset_index()"
   ]
  },
  {
   "cell_type": "code",
   "execution_count": 101,
   "id": "31c5828f",
   "metadata": {
    "ExecuteTime": {
     "end_time": "2021-08-17T10:05:39.636128Z",
     "start_time": "2021-08-17T10:05:39.594717Z"
    }
   },
   "outputs": [],
   "source": [
    "def mean_absolute_percentage_error(y_true, y_pred): \n",
    "    y_true, y_pred = np.array(y_true), np.array(y_pred)\n",
    "    return np.mean(np.abs((y_true - y_pred) / y_true)) * 100"
   ]
  },
  {
   "cell_type": "code",
   "execution_count": 102,
   "id": "fb33bb0e",
   "metadata": {
    "ExecuteTime": {
     "end_time": "2021-08-17T10:05:39.670158Z",
     "start_time": "2021-08-17T10:05:39.640917Z"
    }
   },
   "outputs": [],
   "source": [
    "import numpy as np"
   ]
  },
  {
   "cell_type": "code",
   "execution_count": 103,
   "id": "1a5dfca8",
   "metadata": {
    "ExecuteTime": {
     "end_time": "2021-08-17T11:19:03.275242Z",
     "start_time": "2021-08-17T10:05:39.675444Z"
    }
   },
   "outputs": [
    {
     "name": "stdout",
     "output_type": "stream",
     "text": [
      "{'changepoint_prior_scale': 0.05, 'n_changepoints': 30}\n"
     ]
    },
    {
     "name": "stderr",
     "output_type": "stream",
     "text": [
      "INFO:fbprophet:Disabling daily seasonality. Run prophet with daily_seasonality=True to override this.\n",
      "INFO:fbprophet:Disabling daily seasonality. Run prophet with daily_seasonality=True to override this.\n"
     ]
    },
    {
     "name": "stdout",
     "output_type": "stream",
     "text": [
      "Mean Absolute Percentage Error(MAPE)------------------------------------ 1.9631522715421492\n",
      "{'changepoint_prior_scale': 0.05, 'n_changepoints': 35}\n"
     ]
    },
    {
     "name": "stderr",
     "output_type": "stream",
     "text": [
      "INFO:fbprophet:Disabling daily seasonality. Run prophet with daily_seasonality=True to override this.\n"
     ]
    },
    {
     "name": "stdout",
     "output_type": "stream",
     "text": [
      "Mean Absolute Percentage Error(MAPE)------------------------------------ 1.834441809088236\n",
      "{'changepoint_prior_scale': 0.05, 'n_changepoints': 40}\n"
     ]
    },
    {
     "name": "stderr",
     "output_type": "stream",
     "text": [
      "INFO:fbprophet:Disabling daily seasonality. Run prophet with daily_seasonality=True to override this.\n"
     ]
    },
    {
     "name": "stdout",
     "output_type": "stream",
     "text": [
      "Mean Absolute Percentage Error(MAPE)------------------------------------ 1.765027563306919\n",
      "{'changepoint_prior_scale': 0.05, 'n_changepoints': 45}\n"
     ]
    },
    {
     "name": "stderr",
     "output_type": "stream",
     "text": [
      "INFO:fbprophet:Disabling daily seasonality. Run prophet with daily_seasonality=True to override this.\n"
     ]
    },
    {
     "name": "stdout",
     "output_type": "stream",
     "text": [
      "Mean Absolute Percentage Error(MAPE)------------------------------------ 1.7374081504198648\n",
      "{'changepoint_prior_scale': 0.05, 'n_changepoints': 50}\n"
     ]
    },
    {
     "name": "stderr",
     "output_type": "stream",
     "text": [
      "INFO:fbprophet:Disabling daily seasonality. Run prophet with daily_seasonality=True to override this.\n"
     ]
    },
    {
     "name": "stdout",
     "output_type": "stream",
     "text": [
      "Mean Absolute Percentage Error(MAPE)------------------------------------ 1.7062186961283503\n",
      "{'changepoint_prior_scale': 0.095, 'n_changepoints': 30}\n",
      "Mean Absolute Percentage Error(MAPE)------------------------------------ 1.9002451334399686\n",
      "{'changepoint_prior_scale': 0.095, 'n_changepoints': 35}\n"
     ]
    },
    {
     "name": "stderr",
     "output_type": "stream",
     "text": [
      "INFO:fbprophet:Disabling daily seasonality. Run prophet with daily_seasonality=True to override this.\n",
      "INFO:fbprophet:Disabling daily seasonality. Run prophet with daily_seasonality=True to override this.\n"
     ]
    },
    {
     "name": "stdout",
     "output_type": "stream",
     "text": [
      "Mean Absolute Percentage Error(MAPE)------------------------------------ 1.7731305829080526\n",
      "{'changepoint_prior_scale': 0.095, 'n_changepoints': 40}\n"
     ]
    },
    {
     "name": "stderr",
     "output_type": "stream",
     "text": [
      "INFO:fbprophet:Disabling daily seasonality. Run prophet with daily_seasonality=True to override this.\n"
     ]
    },
    {
     "name": "stdout",
     "output_type": "stream",
     "text": [
      "Mean Absolute Percentage Error(MAPE)------------------------------------ 1.666817286375843\n",
      "{'changepoint_prior_scale': 0.095, 'n_changepoints': 45}\n"
     ]
    },
    {
     "name": "stderr",
     "output_type": "stream",
     "text": [
      "INFO:fbprophet:Disabling daily seasonality. Run prophet with daily_seasonality=True to override this.\n"
     ]
    },
    {
     "name": "stdout",
     "output_type": "stream",
     "text": [
      "Mean Absolute Percentage Error(MAPE)------------------------------------ 1.605679282394\n",
      "{'changepoint_prior_scale': 0.095, 'n_changepoints': 50}\n"
     ]
    },
    {
     "name": "stderr",
     "output_type": "stream",
     "text": [
      "INFO:fbprophet:Disabling daily seasonality. Run prophet with daily_seasonality=True to override this.\n"
     ]
    },
    {
     "name": "stdout",
     "output_type": "stream",
     "text": [
      "Mean Absolute Percentage Error(MAPE)------------------------------------ 1.5503535342012238\n",
      "{'changepoint_prior_scale': 0.1, 'n_changepoints': 30}\n"
     ]
    },
    {
     "name": "stderr",
     "output_type": "stream",
     "text": [
      "INFO:fbprophet:Disabling daily seasonality. Run prophet with daily_seasonality=True to override this.\n"
     ]
    },
    {
     "name": "stdout",
     "output_type": "stream",
     "text": [
      "Mean Absolute Percentage Error(MAPE)------------------------------------ 1.8968531830980753\n",
      "{'changepoint_prior_scale': 0.1, 'n_changepoints': 35}\n"
     ]
    },
    {
     "name": "stderr",
     "output_type": "stream",
     "text": [
      "INFO:fbprophet:Disabling daily seasonality. Run prophet with daily_seasonality=True to override this.\n"
     ]
    },
    {
     "name": "stdout",
     "output_type": "stream",
     "text": [
      "Mean Absolute Percentage Error(MAPE)------------------------------------ 1.7712802845609925\n",
      "{'changepoint_prior_scale': 0.1, 'n_changepoints': 40}\n"
     ]
    },
    {
     "name": "stderr",
     "output_type": "stream",
     "text": [
      "INFO:fbprophet:Disabling daily seasonality. Run prophet with daily_seasonality=True to override this.\n"
     ]
    },
    {
     "name": "stdout",
     "output_type": "stream",
     "text": [
      "Mean Absolute Percentage Error(MAPE)------------------------------------ 1.663020676375477\n",
      "{'changepoint_prior_scale': 0.1, 'n_changepoints': 45}\n"
     ]
    },
    {
     "name": "stderr",
     "output_type": "stream",
     "text": [
      "INFO:fbprophet:Disabling daily seasonality. Run prophet with daily_seasonality=True to override this.\n"
     ]
    },
    {
     "name": "stdout",
     "output_type": "stream",
     "text": [
      "Mean Absolute Percentage Error(MAPE)------------------------------------ 1.6014114197204294\n",
      "{'changepoint_prior_scale': 0.1, 'n_changepoints': 50}\n"
     ]
    },
    {
     "name": "stderr",
     "output_type": "stream",
     "text": [
      "INFO:fbprophet:Disabling daily seasonality. Run prophet with daily_seasonality=True to override this.\n"
     ]
    },
    {
     "name": "stdout",
     "output_type": "stream",
     "text": [
      "Mean Absolute Percentage Error(MAPE)------------------------------------ 1.5374502548319378\n",
      "{'changepoint_prior_scale': 0.2, 'n_changepoints': 30}\n"
     ]
    },
    {
     "name": "stderr",
     "output_type": "stream",
     "text": [
      "INFO:fbprophet:Disabling daily seasonality. Run prophet with daily_seasonality=True to override this.\n"
     ]
    },
    {
     "name": "stdout",
     "output_type": "stream",
     "text": [
      "Mean Absolute Percentage Error(MAPE)------------------------------------ 1.886808943314179\n",
      "{'changepoint_prior_scale': 0.2, 'n_changepoints': 35}\n"
     ]
    },
    {
     "name": "stderr",
     "output_type": "stream",
     "text": [
      "INFO:fbprophet:Disabling daily seasonality. Run prophet with daily_seasonality=True to override this.\n"
     ]
    },
    {
     "name": "stdout",
     "output_type": "stream",
     "text": [
      "Mean Absolute Percentage Error(MAPE)------------------------------------ 1.7476377865189585\n",
      "{'changepoint_prior_scale': 0.2, 'n_changepoints': 40}\n"
     ]
    },
    {
     "name": "stderr",
     "output_type": "stream",
     "text": [
      "INFO:fbprophet:Disabling daily seasonality. Run prophet with daily_seasonality=True to override this.\n"
     ]
    },
    {
     "name": "stdout",
     "output_type": "stream",
     "text": [
      "Mean Absolute Percentage Error(MAPE)------------------------------------ 1.6369770355507456\n",
      "{'changepoint_prior_scale': 0.2, 'n_changepoints': 45}\n"
     ]
    },
    {
     "name": "stderr",
     "output_type": "stream",
     "text": [
      "INFO:fbprophet:Disabling daily seasonality. Run prophet with daily_seasonality=True to override this.\n"
     ]
    },
    {
     "name": "stdout",
     "output_type": "stream",
     "text": [
      "Mean Absolute Percentage Error(MAPE)------------------------------------ 1.5606724880642588\n",
      "{'changepoint_prior_scale': 0.2, 'n_changepoints': 50}\n",
      "Mean Absolute Percentage Error(MAPE)------------------------------------ 1.4999304686866908\n"
     ]
    }
   ],
   "source": [
    "strt='2019-01-01'\n",
    "end='2021-06-25'\n",
    "model_parameters = pd.DataFrame(columns = ['MAPE','Parameters'])\n",
    "for p in grid:\n",
    "    test = pd.DataFrame()\n",
    "    print(p)\n",
    "    random.seed(0)\n",
    "    model=Prophet(changepoint_prior_scale = p['changepoint_prior_scale'],\n",
    "                         n_changepoints = p['n_changepoints'],interval_width=0.95)\n",
    "    model.fit(df)\n",
    "    future_global=model.make_future_dataframe(periods=30,freq='D')\n",
    "    prediction1=model.predict(future_global)\n",
    "    prediction1[['ds','yhat','yhat_lower','yhat_upper']].tail()\n",
    "    metric_df1 = prediction1.set_index('ds')[['yhat']].join(df.set_index('ds').y).reset_index()\n",
    "    metric_df1.tail()\n",
    "    metric_df1.dropna(inplace=True)\n",
    "    def mean_absolute_percentage_error(y_true, y_pred): \n",
    "        y_true, y_pred = np.array(y_true), np.array(y_pred)\n",
    "        return np.mean(np.abs((y_true - y_pred) / y_true)) * 100\n",
    "    MAPE=mean_absolute_percentage_error(y_true=metric_df1['y'],y_pred=metric_df1['yhat'])\n",
    "    print('Mean Absolute Percentage Error(MAPE)------------------------------------',MAPE)\n",
    "    model_parameters = model_parameters.append({'MAPE':MAPE,'Parameters':p},ignore_index=True)"
   ]
  },
  {
   "cell_type": "code",
   "execution_count": 104,
   "id": "349690d1",
   "metadata": {
    "ExecuteTime": {
     "end_time": "2021-08-17T11:19:03.322533Z",
     "start_time": "2021-08-17T11:19:03.281189Z"
    }
   },
   "outputs": [
    {
     "data": {
      "text/html": [
       "<div>\n",
       "<style scoped>\n",
       "    .dataframe tbody tr th:only-of-type {\n",
       "        vertical-align: middle;\n",
       "    }\n",
       "\n",
       "    .dataframe tbody tr th {\n",
       "        vertical-align: top;\n",
       "    }\n",
       "\n",
       "    .dataframe thead th {\n",
       "        text-align: right;\n",
       "    }\n",
       "</style>\n",
       "<table border=\"1\" class=\"dataframe\">\n",
       "  <thead>\n",
       "    <tr style=\"text-align: right;\">\n",
       "      <th></th>\n",
       "      <th>MAPE</th>\n",
       "      <th>Parameters</th>\n",
       "    </tr>\n",
       "  </thead>\n",
       "  <tbody>\n",
       "    <tr>\n",
       "      <th>0</th>\n",
       "      <td>1.499930</td>\n",
       "      <td>{'changepoint_prior_scale': 0.2, 'n_changepoin...</td>\n",
       "    </tr>\n",
       "    <tr>\n",
       "      <th>1</th>\n",
       "      <td>1.537450</td>\n",
       "      <td>{'changepoint_prior_scale': 0.1, 'n_changepoin...</td>\n",
       "    </tr>\n",
       "    <tr>\n",
       "      <th>2</th>\n",
       "      <td>1.550354</td>\n",
       "      <td>{'changepoint_prior_scale': 0.095, 'n_changepo...</td>\n",
       "    </tr>\n",
       "    <tr>\n",
       "      <th>3</th>\n",
       "      <td>1.560672</td>\n",
       "      <td>{'changepoint_prior_scale': 0.2, 'n_changepoin...</td>\n",
       "    </tr>\n",
       "    <tr>\n",
       "      <th>4</th>\n",
       "      <td>1.601411</td>\n",
       "      <td>{'changepoint_prior_scale': 0.1, 'n_changepoin...</td>\n",
       "    </tr>\n",
       "  </tbody>\n",
       "</table>\n",
       "</div>"
      ],
      "text/plain": [
       "       MAPE                                         Parameters\n",
       "0  1.499930  {'changepoint_prior_scale': 0.2, 'n_changepoin...\n",
       "1  1.537450  {'changepoint_prior_scale': 0.1, 'n_changepoin...\n",
       "2  1.550354  {'changepoint_prior_scale': 0.095, 'n_changepo...\n",
       "3  1.560672  {'changepoint_prior_scale': 0.2, 'n_changepoin...\n",
       "4  1.601411  {'changepoint_prior_scale': 0.1, 'n_changepoin..."
      ]
     },
     "execution_count": 104,
     "metadata": {},
     "output_type": "execute_result"
    }
   ],
   "source": [
    "parameters = model_parameters.sort_values(by=['MAPE'])\n",
    "parameters = parameters.reset_index(drop=True)\n",
    "parameters.head()  "
   ]
  },
  {
   "cell_type": "markdown",
   "id": "3e67f556",
   "metadata": {},
   "source": [
    "Out of total 15 models, we will select the parameters which has the least MAPE to train the final model and predict the next 30 days Dollar Exchange Rates."
   ]
  },
  {
   "cell_type": "code",
   "execution_count": 105,
   "id": "b501e988",
   "metadata": {
    "ExecuteTime": {
     "end_time": "2021-08-17T11:19:03.338073Z",
     "start_time": "2021-08-17T11:19:03.327109Z"
    }
   },
   "outputs": [],
   "source": [
    "#Training model with  changepoint_prior_scale 0.3 and n_changepoints=200"
   ]
  },
  {
   "cell_type": "code",
   "execution_count": 106,
   "id": "0d410932",
   "metadata": {
    "ExecuteTime": {
     "end_time": "2021-08-17T11:24:09.103476Z",
     "start_time": "2021-08-17T11:19:03.345017Z"
    }
   },
   "outputs": [
    {
     "name": "stderr",
     "output_type": "stream",
     "text": [
      "INFO:fbprophet:Disabling daily seasonality. Run prophet with daily_seasonality=True to override this.\n"
     ]
    },
    {
     "data": {
      "text/plain": [
       "<fbprophet.forecaster.Prophet at 0x2a79121abb0>"
      ]
     },
     "execution_count": 106,
     "metadata": {},
     "output_type": "execute_result"
    }
   ],
   "source": [
    "final_model_ = Prophet(changepoint_prior_scale=0.2,n_changepoints=50)\n",
    "final_model_.fit(df)"
   ]
  },
  {
   "cell_type": "code",
   "execution_count": 107,
   "id": "9b867f50",
   "metadata": {
    "ExecuteTime": {
     "end_time": "2021-08-17T11:24:09.135396Z",
     "start_time": "2021-08-17T11:24:09.112456Z"
    }
   },
   "outputs": [],
   "source": [
    "final_future=final_model_.make_future_dataframe(periods=30,freq='D')"
   ]
  },
  {
   "cell_type": "code",
   "execution_count": 108,
   "id": "a75309de",
   "metadata": {
    "ExecuteTime": {
     "end_time": "2021-08-17T11:24:23.812143Z",
     "start_time": "2021-08-17T11:24:09.145326Z"
    }
   },
   "outputs": [
    {
     "data": {
      "text/html": [
       "<div>\n",
       "<style scoped>\n",
       "    .dataframe tbody tr th:only-of-type {\n",
       "        vertical-align: middle;\n",
       "    }\n",
       "\n",
       "    .dataframe tbody tr th {\n",
       "        vertical-align: top;\n",
       "    }\n",
       "\n",
       "    .dataframe thead th {\n",
       "        text-align: right;\n",
       "    }\n",
       "</style>\n",
       "<table border=\"1\" class=\"dataframe\">\n",
       "  <thead>\n",
       "    <tr style=\"text-align: right;\">\n",
       "      <th></th>\n",
       "      <th>ds</th>\n",
       "      <th>yhat</th>\n",
       "      <th>yhat_lower</th>\n",
       "      <th>yhat_upper</th>\n",
       "    </tr>\n",
       "  </thead>\n",
       "  <tbody>\n",
       "    <tr>\n",
       "      <th>8240</th>\n",
       "      <td>2021-07-21</td>\n",
       "      <td>74.377350</td>\n",
       "      <td>72.978317</td>\n",
       "      <td>75.859783</td>\n",
       "    </tr>\n",
       "    <tr>\n",
       "      <th>8241</th>\n",
       "      <td>2021-07-22</td>\n",
       "      <td>74.375141</td>\n",
       "      <td>72.910807</td>\n",
       "      <td>75.757489</td>\n",
       "    </tr>\n",
       "    <tr>\n",
       "      <th>8242</th>\n",
       "      <td>2021-07-23</td>\n",
       "      <td>74.355535</td>\n",
       "      <td>72.929903</td>\n",
       "      <td>75.906236</td>\n",
       "    </tr>\n",
       "    <tr>\n",
       "      <th>8243</th>\n",
       "      <td>2021-07-24</td>\n",
       "      <td>74.129625</td>\n",
       "      <td>72.652863</td>\n",
       "      <td>75.521198</td>\n",
       "    </tr>\n",
       "    <tr>\n",
       "      <th>8244</th>\n",
       "      <td>2021-07-25</td>\n",
       "      <td>74.131543</td>\n",
       "      <td>72.757211</td>\n",
       "      <td>75.572485</td>\n",
       "    </tr>\n",
       "  </tbody>\n",
       "</table>\n",
       "</div>"
      ],
      "text/plain": [
       "             ds       yhat  yhat_lower  yhat_upper\n",
       "8240 2021-07-21  74.377350   72.978317   75.859783\n",
       "8241 2021-07-22  74.375141   72.910807   75.757489\n",
       "8242 2021-07-23  74.355535   72.929903   75.906236\n",
       "8243 2021-07-24  74.129625   72.652863   75.521198\n",
       "8244 2021-07-25  74.131543   72.757211   75.572485"
      ]
     },
     "execution_count": 108,
     "metadata": {},
     "output_type": "execute_result"
    }
   ],
   "source": [
    "final_prediction=final_model_.predict(final_future)\n",
    "final_prediction[['ds','yhat','yhat_lower','yhat_upper']].tail()"
   ]
  },
  {
   "cell_type": "code",
   "execution_count": 109,
   "id": "bd34adf4",
   "metadata": {
    "ExecuteTime": {
     "end_time": "2021-08-17T11:24:24.590027Z",
     "start_time": "2021-08-17T11:24:23.816853Z"
    }
   },
   "outputs": [
    {
     "data": {
      "image/png": "[encoded data removed]",
      "text/plain": [
       "<Figure size 1080x360 with 1 Axes>"
      ]
     },
     "metadata": {
      "needs_background": "light"
     },
     "output_type": "display_data"
    }
   ],
   "source": [
    "# Plot the forecast\n",
    "# prior scale 0.095\n",
    "f, ax = plt.subplots(1)\n",
    "f.set_figheight(5)\n",
    "f.set_figwidth(15)\n",
    "fig =final_model_.plot(final_prediction,\n",
    "                 ax=ax)\n",
    "plt.show()"
   ]
  },
  {
   "cell_type": "code",
   "execution_count": 110,
   "id": "5f15650d",
   "metadata": {
    "ExecuteTime": {
     "end_time": "2021-08-17T11:24:24.605018Z",
     "start_time": "2021-08-17T11:24:24.594013Z"
    }
   },
   "outputs": [],
   "source": [
    "from fbprophet.plot import add_changepoints_to_plot"
   ]
  },
  {
   "cell_type": "code",
   "execution_count": 111,
   "id": "24c51ea6",
   "metadata": {
    "ExecuteTime": {
     "end_time": "2021-08-17T11:24:25.737767Z",
     "start_time": "2021-08-17T11:24:24.608973Z"
    }
   },
   "outputs": [
    {
     "data": {
      "image/png": "[encoded data removed]",
      "text/plain": [
       "<Figure size 720x432 with 1 Axes>"
      ]
     },
     "metadata": {},
     "output_type": "display_data"
    }
   ],
   "source": [
    "fig=final_model_.plot(final_prediction)\n",
    "a=add_changepoints_to_plot(fig.gca(),final_model_,final_prediction)"
   ]
  },
  {
   "cell_type": "code",
   "execution_count": 112,
   "id": "de266e63",
   "metadata": {
    "ExecuteTime": {
     "end_time": "2021-08-17T11:24:25.875069Z",
     "start_time": "2021-08-17T11:24:25.741026Z"
    }
   },
   "outputs": [
    {
     "data": {
      "text/html": [
       "<div>\n",
       "<style scoped>\n",
       "    .dataframe tbody tr th:only-of-type {\n",
       "        vertical-align: middle;\n",
       "    }\n",
       "\n",
       "    .dataframe tbody tr th {\n",
       "        vertical-align: top;\n",
       "    }\n",
       "\n",
       "    .dataframe thead th {\n",
       "        text-align: right;\n",
       "    }\n",
       "</style>\n",
       "<table border=\"1\" class=\"dataframe\">\n",
       "  <thead>\n",
       "    <tr style=\"text-align: right;\">\n",
       "      <th></th>\n",
       "      <th>ds</th>\n",
       "      <th>yhat</th>\n",
       "      <th>y</th>\n",
       "    </tr>\n",
       "  </thead>\n",
       "  <tbody>\n",
       "    <tr>\n",
       "      <th>8240</th>\n",
       "      <td>2021-07-21</td>\n",
       "      <td>74.377350</td>\n",
       "      <td>NaN</td>\n",
       "    </tr>\n",
       "    <tr>\n",
       "      <th>8241</th>\n",
       "      <td>2021-07-22</td>\n",
       "      <td>74.375141</td>\n",
       "      <td>NaN</td>\n",
       "    </tr>\n",
       "    <tr>\n",
       "      <th>8242</th>\n",
       "      <td>2021-07-23</td>\n",
       "      <td>74.355535</td>\n",
       "      <td>NaN</td>\n",
       "    </tr>\n",
       "    <tr>\n",
       "      <th>8243</th>\n",
       "      <td>2021-07-24</td>\n",
       "      <td>74.129625</td>\n",
       "      <td>NaN</td>\n",
       "    </tr>\n",
       "    <tr>\n",
       "      <th>8244</th>\n",
       "      <td>2021-07-25</td>\n",
       "      <td>74.131543</td>\n",
       "      <td>NaN</td>\n",
       "    </tr>\n",
       "  </tbody>\n",
       "</table>\n",
       "</div>"
      ],
      "text/plain": [
       "             ds       yhat   y\n",
       "8240 2021-07-21  74.377350 NaN\n",
       "8241 2021-07-22  74.375141 NaN\n",
       "8242 2021-07-23  74.355535 NaN\n",
       "8243 2021-07-24  74.129625 NaN\n",
       "8244 2021-07-25  74.131543 NaN"
      ]
     },
     "execution_count": 112,
     "metadata": {},
     "output_type": "execute_result"
    }
   ],
   "source": [
    "final_metric_df = final_prediction.set_index('ds')[['yhat']].join(df.set_index('ds').y).reset_index()\n",
    "final_metric_df.tail()"
   ]
  },
  {
   "cell_type": "code",
   "execution_count": 113,
   "id": "ce83ef02",
   "metadata": {
    "ExecuteTime": {
     "end_time": "2021-08-17T11:24:25.905894Z",
     "start_time": "2021-08-17T11:24:25.878828Z"
    }
   },
   "outputs": [],
   "source": [
    "final_metric_df.dropna(inplace=True)"
   ]
  },
  {
   "cell_type": "code",
   "execution_count": 114,
   "id": "19f3790f",
   "metadata": {
    "ExecuteTime": {
     "end_time": "2021-08-17T11:24:25.952625Z",
     "start_time": "2021-08-17T11:24:25.918753Z"
    }
   },
   "outputs": [
    {
     "data": {
      "text/plain": [
       "1.4999304686866908"
      ]
     },
     "execution_count": 114,
     "metadata": {},
     "output_type": "execute_result"
    }
   ],
   "source": [
    "def mean_absolute_percentage_error(y_true, y_pred): \n",
    "    \"\"\"Calculates MAPE given y_true and y_pred\"\"\"\n",
    "    y_true, y_pred = np.array(y_true), np.array(y_pred)\n",
    "    return np.mean(np.abs((y_true - y_pred) / y_true)) * 100\n",
    "\n",
    "mean_absolute_percentage_error(y_true=final_metric_df['y'],y_pred=final_metric_df['yhat'])"
   ]
  },
  {
   "cell_type": "markdown",
   "id": "33587f7c",
   "metadata": {},
   "source": [
    "# Conclusion\n",
    "\n",
    "We have achieved the MAPE score of 1.49 on the overall data which seems to be good. However, we shall decide on the model after comparing with other models."
   ]
  }
 ],
 "metadata": {
  "hide_input": false,
  "kernelspec": {
   "display_name": "Python 3",
   "language": "python",
   "name": "python3"
  },
  "language_info": {
   "codemirror_mode": {
    "name": "ipython",
    "version": 3
   },
   "file_extension": ".py",
   "mimetype": "text/x-python",
   "name": "python",
   "nbconvert_exporter": "python",
   "pygments_lexer": "ipython3",
   "version": "3.8.10"
  },
  "toc": {
   "base_numbering": 1,
   "nav_menu": {},
   "number_sections": true,
   "sideBar": true,
   "skip_h1_title": false,
   "title_cell": "Table of Contents",
   "title_sidebar": "Contents",
   "toc_cell": false,
   "toc_position": {},
   "toc_section_display": true,
   "toc_window_display": false
  },
  "varInspector": {
   "cols": {
    "lenName": 16,
    "lenType": 16,
    "lenVar": 40
   },
   "kernels_config": {
    "python": {
     "delete_cmd_postfix": "",
     "delete_cmd_prefix": "del ",
     "library": "var_list.py",
     "varRefreshCmd": "print(var_dic_list())"
    },
    "r": {
     "delete_cmd_postfix": ") ",
     "delete_cmd_prefix": "rm(",
     "library": "var_list.r",
     "varRefreshCmd": "cat(var_dic_list()) "
    }
   },
   "types_to_exclude": [
    "module",
    "function",
    "builtin_function_or_method",
    "instance",
    "_Feature"
   ],
   "window_display": false
  }
 },
 "nbformat": 4,
 "nbformat_minor": 5
}
