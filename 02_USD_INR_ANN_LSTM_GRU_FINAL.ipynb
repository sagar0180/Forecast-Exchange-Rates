{
 "cells": [
  {
   "cell_type": "markdown",
   "metadata": {
    "id": "hFICqq4n-5n_"
   },
   "source": [
    "# Import Libraries"
   ]
  },
  {
   "cell_type": "code",
   "execution_count": null,
   "metadata": {
    "id": "g4lhkvHf1qGe"
   },
   "outputs": [],
   "source": [
    "import numpy as np\n",
    "import pandas as pd\n",
    "import matplotlib.pyplot as plt\n",
    "%matplotlib inline\n",
    "import matplotlib\n",
    "\n",
    "from datetime import datetime, timedelta, date\n",
    "from statsmodels.graphics.tsaplots import plot_acf\n",
    "from statsmodels.graphics.tsaplots import plot_pacf\n",
    "\n",
    "from statsmodels.tsa.stattools import adfuller\n",
    "from statsmodels.tsa.seasonal import seasonal_decompose\n",
    "\n",
    "import sklearn.metrics as metrics\n",
    "from sklearn.metrics import mean_squared_error as MSE\n",
    "# from sklearn.metrics import mean_absolute_percentage_error as MAPE\n",
    "from sklearn.metrics import r2_score\n",
    "\n",
    "from keras.models import Sequential\n",
    "from keras.layers import Dense\n",
    "from keras.optimizers import Adam\n",
    "import keras.backend as K\n",
    "from keras import layers\n",
    "from keras.initializers import Zeros\n",
    "from keras.callbacks import EarlyStopping\n",
    "from keras.models import load_model\n",
    "\n",
    "# Set random seed\n",
    "np.random.seed(0)\n",
    "from sklearn.preprocessing import MinMaxScaler"
   ]
  },
  {
   "cell_type": "code",
   "execution_count": null,
   "metadata": {
    "id": "v-JXsx9t1qGn"
   },
   "outputs": [],
   "source": [
    "# Set figure size for all matplotlib figures\n",
    "fig_size = plt.rcParams[\"figure.figsize\"]\n",
    "fig_size[0] = 10\n",
    "fig_size[1] = 5"
   ]
  },
  {
   "cell_type": "markdown",
   "metadata": {
    "id": "YJtIrKwQ_VTz"
   },
   "source": [
    "## Read The Data"
   ]
  },
  {
   "cell_type": "code",
   "execution_count": null,
   "metadata": {
    "colab": {
     "base_uri": "https://localhost:8080/",
     "height": 388
    },
    "id": "OWJhjyrC1qGo",
    "outputId": "be340766-83d1-4e6d-ba2c-1d060cf75f37"
   },
   "outputs": [
    {
     "data": {
      "text/html": [
       "<div>\n",
       "<style scoped>\n",
       "    .dataframe tbody tr th:only-of-type {\n",
       "        vertical-align: middle;\n",
       "    }\n",
       "\n",
       "    .dataframe tbody tr th {\n",
       "        vertical-align: top;\n",
       "    }\n",
       "\n",
       "    .dataframe thead th {\n",
       "        text-align: right;\n",
       "    }\n",
       "</style>\n",
       "<table border=\"1\" class=\"dataframe\">\n",
       "  <thead>\n",
       "    <tr style=\"text-align: right;\">\n",
       "      <th></th>\n",
       "      <th>DEXINUS</th>\n",
       "    </tr>\n",
       "    <tr>\n",
       "      <th>observation_date</th>\n",
       "      <th></th>\n",
       "    </tr>\n",
       "  </thead>\n",
       "  <tbody>\n",
       "    <tr>\n",
       "      <th>1973-01-02</th>\n",
       "      <td>8.02</td>\n",
       "    </tr>\n",
       "    <tr>\n",
       "      <th>1973-01-03</th>\n",
       "      <td>8.02</td>\n",
       "    </tr>\n",
       "    <tr>\n",
       "      <th>1973-01-04</th>\n",
       "      <td>8.00</td>\n",
       "    </tr>\n",
       "    <tr>\n",
       "      <th>1973-01-05</th>\n",
       "      <td>8.01</td>\n",
       "    </tr>\n",
       "    <tr>\n",
       "      <th>1973-01-08</th>\n",
       "      <td>8.00</td>\n",
       "    </tr>\n",
       "    <tr>\n",
       "      <th>1973-01-09</th>\n",
       "      <td>8.00</td>\n",
       "    </tr>\n",
       "    <tr>\n",
       "      <th>1973-01-10</th>\n",
       "      <td>8.00</td>\n",
       "    </tr>\n",
       "    <tr>\n",
       "      <th>1973-01-11</th>\n",
       "      <td>8.00</td>\n",
       "    </tr>\n",
       "    <tr>\n",
       "      <th>1973-01-12</th>\n",
       "      <td>8.00</td>\n",
       "    </tr>\n",
       "    <tr>\n",
       "      <th>1973-01-15</th>\n",
       "      <td>8.00</td>\n",
       "    </tr>\n",
       "  </tbody>\n",
       "</table>\n",
       "</div>"
      ],
      "text/plain": [
       "                  DEXINUS\n",
       "observation_date         \n",
       "1973-01-02           8.02\n",
       "1973-01-03           8.02\n",
       "1973-01-04           8.00\n",
       "1973-01-05           8.01\n",
       "1973-01-08           8.00\n",
       "1973-01-09           8.00\n",
       "1973-01-10           8.00\n",
       "1973-01-11           8.00\n",
       "1973-01-12           8.00\n",
       "1973-01-15           8.00"
      ]
     },
     "execution_count": 5,
     "metadata": {
      "tags": []
     },
     "output_type": "execute_result"
    }
   ],
   "source": [
    "df = pd.read_excel('/content/DEXINUS.xls',\n",
    "                   skiprows=10,\n",
    "                   index_col=[0],\n",
    "                   parse_dates=True)\n",
    "df.head(10)"
   ]
  },
  {
   "cell_type": "code",
   "execution_count": null,
   "metadata": {
    "id": "-tLlNBs41qGr"
   },
   "outputs": [],
   "source": [
    "#Fill missing values using interpolation\n",
    "df['DEXINUS'].interpolate(method='linear',\n",
    "                          limit_direction='forward',\n",
    "                          inplace=True)"
   ]
  },
  {
   "cell_type": "code",
   "execution_count": null,
   "metadata": {
    "id": "iBj9uh421qGt",
    "scrolled": true
   },
   "outputs": [],
   "source": [
    "# df.isna().sum()"
   ]
  },
  {
   "cell_type": "markdown",
   "metadata": {
    "id": "DvNA0aK81qGu"
   },
   "source": [
    "# Train test split"
   ]
  },
  {
   "cell_type": "code",
   "execution_count": null,
   "metadata": {
    "colab": {
     "base_uri": "https://localhost:8080/"
    },
    "id": "Tj43lAyX1qGv",
    "outputId": "ce556009-6cbf-4b98-9ef8-96bf1451fd3f"
   },
   "outputs": [
    {
     "data": {
      "text/plain": [
       "array([[0.01189794],\n",
       "       [0.01189794],\n",
       "       [0.01161124],\n",
       "       ...,\n",
       "       [0.95957569],\n",
       "       [0.95971904],\n",
       "       [0.95971904]])"
      ]
     },
     "execution_count": 8,
     "metadata": {
      "tags": []
     },
     "output_type": "execute_result"
    }
   ],
   "source": [
    "from sklearn.preprocessing import MinMaxScaler\n",
    "scaler = MinMaxScaler()\n",
    "scaler.fit(df)\n",
    "data1 = scaler.transform(df)\n",
    "data1"
   ]
  },
  {
   "cell_type": "code",
   "execution_count": null,
   "metadata": {
    "colab": {
     "base_uri": "https://localhost:8080/"
    },
    "id": "MtI8qCLO2QX0",
    "outputId": "950071ee-7ce6-4164-a6d6-b86e2d9bd5ab"
   },
   "outputs": [
    {
     "data": {
      "text/plain": [
       "12649"
      ]
     },
     "execution_count": 9,
     "metadata": {
      "tags": []
     },
     "output_type": "execute_result"
    }
   ],
   "source": [
    "len(data1)"
   ]
  },
  {
   "cell_type": "code",
   "execution_count": null,
   "metadata": {
    "colab": {
     "base_uri": "https://localhost:8080/"
    },
    "id": "2W1anZdg1qGw",
    "outputId": "efc9c1e5-482f-4e23-c41c-2e462fb59d66"
   },
   "outputs": [
    {
     "name": "stdout",
     "output_type": "stream",
     "text": [
      "12124 12649 <class 'numpy.ndarray'>\n"
     ]
    },
    {
     "data": {
      "text/plain": [
       "(12123, 524, 12123, 524)"
      ]
     },
     "execution_count": 10,
     "metadata": {
      "tags": []
     },
     "output_type": "execute_result"
    }
   ],
   "source": [
    "\n",
    "train_size = int(12649-525)  #95% for training\n",
    "print(train_size,len(data1),type(data1))\n",
    "\n",
    "train = data1[:train_size]\n",
    "test = data1[train_size:]\n",
    "\n",
    "X_train = train[:-1]\n",
    "y_train = train[1:]\n",
    "\n",
    "X_test = test[:-1]\n",
    "y_test = test[1:]\n",
    "len(X_train),len(X_test), len(y_train), len(y_test)"
   ]
  },
  {
   "cell_type": "code",
   "execution_count": null,
   "metadata": {
    "colab": {
     "base_uri": "https://localhost:8080/"
    },
    "id": "ksnT4Upx1qGx",
    "outputId": "a9d24098-b07a-474d-cbf8-4cd61a504c2f"
   },
   "outputs": [
    {
     "data": {
      "text/plain": [
       "(array([[0.89521216],\n",
       "        [0.89234518],\n",
       "        [0.89449541]]), array([[0.890625  ],\n",
       "        [0.88976491],\n",
       "        [0.88861812],\n",
       "        [0.88618119],\n",
       "        [0.88489106]]))"
      ]
     },
     "execution_count": 11,
     "metadata": {
      "tags": []
     },
     "output_type": "execute_result"
    }
   ],
   "source": [
    "# pd.DataFrame(zip(X_train,y_train))\n",
    "train[-3:],test[:5]"
   ]
  },
  {
   "cell_type": "markdown",
   "metadata": {
    "id": "EGkFKpUM1qGy"
   },
   "source": [
    "# ANN\n",
    "\n",
    "Import the Tensor and Keras functions for ANN"
   ]
  },
  {
   "cell_type": "code",
   "execution_count": null,
   "metadata": {
    "id": "yiRwqp-B1qGy"
   },
   "outputs": [],
   "source": [
    "import tensorflow as tf\n",
    "from keras.models import Sequential\n",
    "from keras.layers import Dense\n",
    "import keras.backend as K\n",
    "from keras.callbacks import EarlyStopping\n",
    "from keras.optimizers import Adam\n",
    "from keras.layers import Dropout\n",
    "\n",
    "\n",
    "def adj_r2_score(r2, n, k):\n",
    "    return 1 - ((1 - r2) * ((n - 1) / (n - k - 1)))"
   ]
  },
  {
   "cell_type": "code",
   "execution_count": null,
   "metadata": {
    "colab": {
     "base_uri": "https://localhost:8080/"
    },
    "id": "nnvwn5Zj1qGz",
    "outputId": "c5db4bff-0535-4454-d081-c1ce80ab4708"
   },
   "outputs": [
    {
     "name": "stdout",
     "output_type": "stream",
     "text": [
      "Model: \"sequential\"\n",
      "_________________________________________________________________\n",
      "Layer (type)                 Output Shape              Param #   \n",
      "=================================================================\n",
      "dense (Dense)                (None, 30)                60        \n",
      "_________________________________________________________________\n",
      "dense_1 (Dense)              (None, 1)                 31        \n",
      "=================================================================\n",
      "Total params: 91\n",
      "Trainable params: 91\n",
      "Non-trainable params: 0\n",
      "_________________________________________________________________\n"
     ]
    }
   ],
   "source": [
    "K.clear_session()\n",
    "\n",
    "model = Sequential()\n",
    "model.add(Dense(30, input_dim=1, activation='relu'))\n",
    "model.add(Dense(1))\n",
    "model.summary()"
   ]
  },
  {
   "cell_type": "code",
   "execution_count": null,
   "metadata": {
    "colab": {
     "base_uri": "https://localhost:8080/"
    },
    "id": "9CiD0TVI1qG0",
    "outputId": "64e37af3-1396-4760-8c0c-a36c4c8a4ec1"
   },
   "outputs": [
    {
     "name": "stdout",
     "output_type": "stream",
     "text": [
      "Epoch 1/100\n",
      "12123/12123 [==============================] - 39s 2ms/step - loss: 5.0925e-06 - rmse: 0.0018\n",
      "Epoch 2/100\n",
      "12123/12123 [==============================] - 24s 2ms/step - loss: 0.0013 - rmse: 0.0124\n",
      "Epoch 3/100\n",
      "12123/12123 [==============================] - 24s 2ms/step - loss: 6.0291e-04 - rmse: 0.0111\n",
      "Epoch 4/100\n",
      "12123/12123 [==============================] - 24s 2ms/step - loss: 3.9199e-04 - rmse: 0.0102\n",
      "Epoch 5/100\n",
      "12123/12123 [==============================] - 23s 2ms/step - loss: 2.0696e-04 - rmse: 0.0093\n",
      "Epoch 6/100\n",
      "12123/12123 [==============================] - 23s 2ms/step - loss: 1.4578e-04 - rmse: 0.0087\n",
      "Epoch 7/100\n",
      "12123/12123 [==============================] - 23s 2ms/step - loss: 1.1240e-04 - rmse: 0.0082\n",
      "Epoch 8/100\n",
      "12123/12123 [==============================] - 23s 2ms/step - loss: 6.7282e-05 - rmse: 0.0077\n",
      "Epoch 9/100\n",
      "12123/12123 [==============================] - 23s 2ms/step - loss: 6.4823e-05 - rmse: 0.0074\n",
      "Epoch 00009: early stopping\n"
     ]
    }
   ],
   "source": [
    "model.compile(loss=tf.keras.metrics.mean_squared_error,\n",
    "              metrics=[tf.keras.metrics.RootMeanSquaredError(name='rmse')],\n",
    "              optimizer='adam')\n",
    "\n",
    "early_stop = EarlyStopping(monitor='loss', patience=8, verbose=1)\n",
    "\n",
    "history = model.fit(X_train,\n",
    "                    y_train,\n",
    "                    epochs=100,\n",
    "                    batch_size=1,\n",
    "                    verbose=1,\n",
    "                    callbacks=[early_stop],\n",
    "                    shuffle=False,\n",
    "                    ) #workers=5"
   ]
  },
  {
   "cell_type": "code",
   "execution_count": null,
   "metadata": {
    "colab": {
     "base_uri": "https://localhost:8080/"
    },
    "id": "3i_7OhmBsMLv",
    "outputId": "a199f8d3-a5c5-4d59-bf2e-9c751cf24317"
   },
   "outputs": [
    {
     "data": {
      "text/plain": [
       "array([[0.01189794],\n",
       "       [0.01161124],\n",
       "       [0.01175459],\n",
       "       [0.01161124],\n",
       "       [0.01161124],\n",
       "       [0.01161124],\n",
       "       [0.01161124],\n",
       "       [0.01161124],\n",
       "       [0.01161124],\n",
       "       [0.01175459]])"
      ]
     },
     "execution_count": 15,
     "metadata": {
      "tags": []
     },
     "output_type": "execute_result"
    }
   ],
   "source": [
    "y_train[:10]"
   ]
  },
  {
   "cell_type": "markdown",
   "metadata": {
    "id": "PGoQd83l_8rM"
   },
   "source": [
    "# Check the performance metrics"
   ]
  },
  {
   "cell_type": "code",
   "execution_count": null,
   "metadata": {
    "colab": {
     "base_uri": "https://localhost:8080/"
    },
    "id": "TyJliu0j1qG1",
    "outputId": "99f2c74f-f051-43ad-c72a-68dddf231726"
   },
   "outputs": [
    {
     "name": "stdout",
     "output_type": "stream",
     "text": [
      " \u001b[7m On Train Data \u001b[0m\n",
      "\n",
      "The  R2 score on the Train set is :\t0.930\n",
      "The  MAE on the Train set is      :\t4.627\n",
      "The  RMSE on the Train set is     :\t5.288\n",
      "The  MAPE on the Train Set is     :\t34.178%\n",
      "\n",
      "\n",
      " \u001b[7m On Test Data \u001b[0m\n",
      "\n",
      "The  R2 score on the Test set is  :\t0.901\n",
      "The  MAE on the Test set is       :\t0.506\n",
      "The  RMSE on the Test set is      :\t0.591\n",
      "The  MAPE on the Test Set is     :\t0.685%\n"
     ]
    }
   ],
   "source": [
    "# import sklearn.metrics as metrics\n",
    "from sklearn.metrics import r2_score\n",
    "\n",
    "def MAPE(y,yhat):\n",
    "    return np.mean(np.abs((y - yhat)/y)*100)\n",
    "\n",
    "y_pred_test = scaler.inverse_transform(model.predict(X_test))\n",
    "y_train_pred = scaler.inverse_transform(model.predict(X_train))\n",
    "\n",
    "train_mse = metrics.mean_squared_error(scaler.inverse_transform(y_train), y_train_pred)\n",
    "rmse_train = np.sqrt(train_mse)\n",
    "\n",
    "test_mse = metrics.mean_squared_error(scaler.inverse_transform(y_test), y_pred_test)\n",
    "rmse_test = np.sqrt(test_mse)\n",
    "\n",
    "print(' \\033[7m On Train Data \\033[0m\\n')\n",
    "print(\"The  R2 score on the Train set is :\\t{:0.3f}\".format(\n",
    "    r2_score(scaler.inverse_transform(y_train), y_train_pred)))\n",
    "print(\"The  MAE on the Train set is      :\\t{:0.3f}\".format(\n",
    "    metrics.mean_absolute_error(scaler.inverse_transform(y_train), y_train_pred)))\n",
    "\n",
    "print(\"The  RMSE on the Train set is     :\\t{:0.3f}\".format(rmse_train))\n",
    "r2_train = r2_score(scaler.inverse_transform(y_train), y_train_pred)\n",
    "\n",
    "print(\"The  MAPE on the Train Set is     :\\t{:.3f}%\"\\\n",
    "      .format(MAPE(scaler.inverse_transform(y_train),y_train_pred)))\n",
    "\n",
    "print('\\n\\n \\033[7m On Test Data \\033[0m\\n')\n",
    "\n",
    "print(\"The  R2 score on the Test set is  :\\t{:0.3f}\".format(\n",
    "    r2_score(scaler.inverse_transform(y_test), y_pred_test)))\n",
    "r2_test = r2_score(scaler.inverse_transform(y_test), y_pred_test)\n",
    "\n",
    "print(\"The  MAE on the Test set is       :\\t{:0.3f}\".format(\n",
    "    metrics.mean_absolute_error(scaler.inverse_transform(y_test), y_pred_test)))\n",
    "print(\"The  RMSE on the Test set is      :\\t{:0.3f}\".format(rmse_test))\n",
    "\n",
    "print(\"The  MAPE on the Test Set is     :\\t{:.3f}%\".\\\n",
    "      format(MAPE(scaler.inverse_transform(y_test),y_pred_test)))"
   ]
  },
  {
   "cell_type": "markdown",
   "metadata": {
    "id": "fadSiEKJAYOq"
   },
   "source": [
    "### Checking the MAPE Manually"
   ]
  },
  {
   "cell_type": "code",
   "execution_count": null,
   "metadata": {
    "colab": {
     "base_uri": "https://localhost:8080/"
    },
    "id": "Cjfo5NK41qG2",
    "outputId": "26de1e7f-67a2-491b-c449-9e78552d4994"
   },
   "outputs": [
    {
     "name": "stdout",
     "output_type": "stream",
     "text": [
      "0.006850705798801523\n"
     ]
    }
   ],
   "source": [
    "Temp = pd.concat([\n",
    "    pd.DataFrame(scaler.inverse_transform(y_test), columns=['yTrue']),\n",
    "    pd.DataFrame(y_pred_test, columns=['yHat'])\n",
    "    ],\n",
    "                 axis=1)\n",
    "\n",
    "print(np.mean(np.abs((Temp['yHat']-Temp['yTrue'])/Temp['yTrue'])))"
   ]
  },
  {
   "cell_type": "code",
   "execution_count": null,
   "metadata": {
    "colab": {
     "base_uri": "https://localhost:8080/",
     "height": 265
    },
    "id": "2425PTHm1qG3",
    "outputId": "329eb400-4c2c-43cd-e11e-c8f3f0de2673"
   },
   "outputs": [
    {
     "data": {
      "text/html": [
       "<div>\n",
       "<style scoped>\n",
       "    .dataframe tbody tr th:only-of-type {\n",
       "        vertical-align: middle;\n",
       "    }\n",
       "\n",
       "    .dataframe tbody tr th {\n",
       "        vertical-align: top;\n",
       "    }\n",
       "\n",
       "    .dataframe thead th {\n",
       "        text-align: right;\n",
       "    }\n",
       "</style>\n",
       "<table border=\"1\" class=\"dataframe\">\n",
       "  <thead>\n",
       "    <tr style=\"text-align: right;\">\n",
       "      <th></th>\n",
       "      <th>yTrue</th>\n",
       "      <th>yHat</th>\n",
       "    </tr>\n",
       "  </thead>\n",
       "  <tbody>\n",
       "    <tr>\n",
       "      <th>517</th>\n",
       "      <td>74.16</td>\n",
       "      <td>72.796135</td>\n",
       "    </tr>\n",
       "    <tr>\n",
       "      <th>518</th>\n",
       "      <td>74.14</td>\n",
       "      <td>73.540962</td>\n",
       "    </tr>\n",
       "    <tr>\n",
       "      <th>519</th>\n",
       "      <td>74.18</td>\n",
       "      <td>73.523438</td>\n",
       "    </tr>\n",
       "    <tr>\n",
       "      <th>520</th>\n",
       "      <td>74.37</td>\n",
       "      <td>73.558495</td>\n",
       "    </tr>\n",
       "    <tr>\n",
       "      <th>521</th>\n",
       "      <td>74.13</td>\n",
       "      <td>73.724983</td>\n",
       "    </tr>\n",
       "    <tr>\n",
       "      <th>522</th>\n",
       "      <td>74.14</td>\n",
       "      <td>73.514679</td>\n",
       "    </tr>\n",
       "    <tr>\n",
       "      <th>523</th>\n",
       "      <td>74.14</td>\n",
       "      <td>73.523438</td>\n",
       "    </tr>\n",
       "  </tbody>\n",
       "</table>\n",
       "</div>"
      ],
      "text/plain": [
       "     yTrue       yHat\n",
       "517  74.16  72.796135\n",
       "518  74.14  73.540962\n",
       "519  74.18  73.523438\n",
       "520  74.37  73.558495\n",
       "521  74.13  73.724983\n",
       "522  74.14  73.514679\n",
       "523  74.14  73.523438"
      ]
     },
     "execution_count": 18,
     "metadata": {
      "tags": []
     },
     "output_type": "execute_result"
    }
   ],
   "source": [
    "Temp.tail(7)"
   ]
  },
  {
   "cell_type": "markdown",
   "metadata": {
    "id": "9JOflrQPAyXP"
   },
   "source": [
    "### Plotting the prediction vs actuals on Test data"
   ]
  },
  {
   "cell_type": "code",
   "execution_count": null,
   "metadata": {
    "colab": {
     "base_uri": "https://localhost:8080/",
     "height": 241
    },
    "id": "76WkoJEk1qG4",
    "outputId": "db6a7463-a8a1-421f-ae11-ab0123a7c6e7"
   },
   "outputs": [
    {
     "data": {
      "image/png": "[encoded data removed]",
      "text/plain": [
       "<Figure size 864x216 with 1 Axes>"
      ]
     },
     "metadata": {
      "needs_background": "light",
      "tags": []
     },
     "output_type": "display_data"
    }
   ],
   "source": [
    "plt.figure(figsize=(12, 3))\n",
    "plt.plot(scaler.inverse_transform(y_test), label='True')\n",
    "plt.plot(y_pred_test, label='ANN')\n",
    "# plt.plot(rate_data_log[:10118].index,y_train, label='True')\n",
    "# plt.plot(rate_data_log[:10118].index,y_train_pred, label='ANN')\n",
    "plt.title(\"ANN's_Prediction - Test Data\")\n",
    "plt.xlabel('Observation')\n",
    "plt.ylabel('INR_Scaled')\n",
    "plt.legend()\n",
    "plt.show()"
   ]
  },
  {
   "cell_type": "markdown",
   "metadata": {
    "id": "MmzF8LZPBDxi"
   },
   "source": [
    "### Plotting prediciton vs Actuals on Train Data"
   ]
  },
  {
   "cell_type": "code",
   "execution_count": null,
   "metadata": {
    "colab": {
     "base_uri": "https://localhost:8080/",
     "height": 241
    },
    "id": "qtQilLy81qG5",
    "outputId": "d3028d45-d766-45fe-8ba4-a68748add5be"
   },
   "outputs": [
    {
     "data": {
      "image/png": "[encoded data removed]",
      "text/plain": [
       "<Figure size 864x216 with 1 Axes>"
      ]
     },
     "metadata": {
      "needs_background": "light",
      "tags": []
     },
     "output_type": "display_data"
    }
   ],
   "source": [
    "plt.figure(figsize=(12, 3))\n",
    "# plt.plot(y_test, label='True')\n",
    "# plt.plot(y_pred_test, label='ANN')\n",
    "plt.plot(df[:12123].index, scaler.inverse_transform(y_train), label='True')\n",
    "plt.plot(df[:12123].index, y_train_pred, label='ANN')\n",
    "plt.title(\"ANN's_Prediction - Train Data\")\n",
    "plt.xlabel('Observation')\n",
    "plt.ylabel('INR_Scaled')\n",
    "plt.legend()\n",
    "plt.show()"
   ]
  },
  {
   "cell_type": "markdown",
   "metadata": {
    "id": "DcPPoECM1qG5"
   },
   "source": [
    "# LSTM\n",
    "\n",
    "Long Term Short Memory (LSTM) networks are another variant of RNNs. They are capable of retaining long term dependencies among the sequence of events or data points."
   ]
  },
  {
   "cell_type": "code",
   "execution_count": null,
   "metadata": {
    "id": "CK2HYNOS1qG6"
   },
   "outputs": [],
   "source": [
    "# list(data1.reshape(12649))[:10]"
   ]
  },
  {
   "cell_type": "markdown",
   "metadata": {
    "id": "qc39yTedBYus"
   },
   "source": [
    "# Reshape the data for LSTM model"
   ]
  },
  {
   "cell_type": "code",
   "execution_count": null,
   "metadata": {
    "colab": {
     "base_uri": "https://localhost:8080/"
    },
    "id": "9Ck2vViG1qG6",
    "outputId": "f2eae6ee-fe60-4b65-cb24-b95ef5995a40"
   },
   "outputs": [
    {
     "name": "stdout",
     "output_type": "stream",
     "text": [
      "12124 -  12649 -  <class 'list'>\n"
     ]
    },
    {
     "data": {
      "text/plain": [
       "(12124, 525)"
      ]
     },
     "execution_count": 22,
     "metadata": {
      "tags": []
     },
     "output_type": "execute_result"
    }
   ],
   "source": [
    "data2 = list(data1.reshape(12649))\n",
    "train_size = int(12649-525)#12649-525\n",
    "print(train_size,len(data2),type(data2), sep = ' -  ')\n",
    "\n",
    "train1 = data2[:train_size]\n",
    "test1 = data2[train_size:]\n",
    "\n",
    "train_list = [x for x in train1]\n",
    "predictions = []\n",
    "len(train1),len(test1)"
   ]
  },
  {
   "cell_type": "code",
   "execution_count": null,
   "metadata": {
    "id": "YJCA6Biu1qG9"
   },
   "outputs": [],
   "source": [
    "## Define a custom fuction to create a lagged array with custom lag size for LSTM model\n",
    "\n",
    "def gen_XY(t_list, size):\n",
    "    '''\n",
    "    Generates an autoregressive lagged array.\n",
    "    \n",
    "    Parameters\n",
    "    ----------\n",
    "    1. t_list: (list) Data to generate an autoregressive array out of.\n",
    "    2. size: (int) Number of lagged values to consider.\n",
    "    \n",
    "    Returns\n",
    "    ----------\n",
    "    1. X: (np.ndarray) Autoregressive feature array.\n",
    "    2. Y.T: (np.ndarray) Column array with values of response variable.\n",
    "    \n",
    "    '''\n",
    "    X = np.zeros([1, size])\n",
    "    Y = []\n",
    "    temp_list = []\n",
    "    for i in range(len(t_list) - size):\n",
    "        add_list = t_list[i:i + size]\n",
    "        target = t_list[i + size]\n",
    "        X = np.append(X, np.array([add_list]), axis=0)\n",
    "        Y.append(target)\n",
    "\n",
    "    X = np.delete(X, 0, axis=0)\n",
    "    Y = np.array(Y)\n",
    "\n",
    "    return X, Y.T"
   ]
  },
  {
   "cell_type": "code",
   "execution_count": null,
   "metadata": {
    "id": "urWJHBBz1qG9"
   },
   "outputs": [],
   "source": [
    "# type(train1),len(train1)"
   ]
  },
  {
   "cell_type": "code",
   "execution_count": null,
   "metadata": {
    "id": "FlpjMT6g1qG9"
   },
   "outputs": [],
   "source": [
    "X_train, y_train = gen_XY(train1, 1)\n",
    "X_test, y_test = gen_XY(test1, 1)"
   ]
  },
  {
   "cell_type": "code",
   "execution_count": null,
   "metadata": {
    "colab": {
     "base_uri": "https://localhost:8080/"
    },
    "id": "k-NQ-WP51qG-",
    "outputId": "6ec54abd-d39a-4869-cac1-99beff90b6c0"
   },
   "outputs": [
    {
     "name": "stdout",
     "output_type": "stream",
     "text": [
      "(12123,) (524,) <class 'numpy.ndarray'>\n",
      "[0.01189794 0.01161124 0.01175459 0.01161124 0.01161124]\n",
      "[[0.01189794]\n",
      " [0.01161124]\n",
      " [0.01175459]\n",
      " ...\n",
      " [0.89521216]\n",
      " [0.89234518]\n",
      " [0.89449541]]\n"
     ]
    }
   ],
   "source": [
    "print(y_train.shape,y_test.shape,type(y_train))\n",
    "print(y_train[:5])\n",
    "print(y_train.reshape(12123,-1))"
   ]
  },
  {
   "cell_type": "code",
   "execution_count": null,
   "metadata": {
    "colab": {
     "base_uri": "https://localhost:8080/"
    },
    "id": "yuluMA7k1qG-",
    "outputId": "57cc513a-f9ed-4bae-cdd4-f60513a43679"
   },
   "outputs": [
    {
     "data": {
      "text/plain": [
       "((12123, 1), (12123, 1))"
      ]
     },
     "execution_count": 27,
     "metadata": {
      "tags": []
     },
     "output_type": "execute_result"
    }
   ],
   "source": [
    "X_train.shape,X_train.shape"
   ]
  },
  {
   "cell_type": "code",
   "execution_count": null,
   "metadata": {
    "id": "_kY-m7XQ1qG_"
   },
   "outputs": [],
   "source": [
    "#LSTM Preprocessing\n",
    "X_tr_t = X_train.reshape(X_train.shape[0], 1, X_train.shape[1])\n",
    "X_tst_t = X_test.reshape(X_test.shape[0], 1, X_test.shape[1])"
   ]
  },
  {
   "cell_type": "code",
   "execution_count": null,
   "metadata": {
    "colab": {
     "base_uri": "https://localhost:8080/"
    },
    "id": "9jY7Puk31qG_",
    "outputId": "f1de7982-4ddf-406c-c69b-622c21e99658"
   },
   "outputs": [
    {
     "name": "stdout",
     "output_type": "stream",
     "text": [
      "(12123, 1, 1) (524, 1, 1)\n"
     ]
    },
    {
     "data": {
      "text/plain": [
       "array([[[0.01189794]],\n",
       "\n",
       "       [[0.01189794]],\n",
       "\n",
       "       [[0.01161124]],\n",
       "\n",
       "       [[0.01175459]],\n",
       "\n",
       "       [[0.01161124]]])"
      ]
     },
     "execution_count": 29,
     "metadata": {
      "tags": []
     },
     "output_type": "execute_result"
    }
   ],
   "source": [
    "print(X_tr_t.shape,X_tst_t.shape)\n",
    "X_tr_t[:5]"
   ]
  },
  {
   "cell_type": "markdown",
   "metadata": {
    "id": "fhuwTK_8B1tD"
   },
   "source": [
    "## Model Inititalisation and Training"
   ]
  },
  {
   "cell_type": "code",
   "execution_count": null,
   "metadata": {
    "colab": {
     "base_uri": "https://localhost:8080/"
    },
    "id": "3bB5nT_01qG_",
    "outputId": "aa2ffc78-2896-4c90-aa2b-64d05acafd03",
    "scrolled": false
   },
   "outputs": [
    {
     "name": "stdout",
     "output_type": "stream",
     "text": [
      "WARNING:tensorflow:Layer lstm will not use cuDNN kernels since it doesn't meet the criteria. It will use a generic GPU kernel as fallback when running on GPU.\n",
      "Model: \"sequential\"\n",
      "_________________________________________________________________\n",
      "Layer (type)                 Output Shape              Param #   \n",
      "=================================================================\n",
      "lstm (LSTM)                  (None, 50)                10400     \n",
      "_________________________________________________________________\n",
      "dense (Dense)                (None, 1)                 51        \n",
      "=================================================================\n",
      "Total params: 10,451\n",
      "Trainable params: 10,451\n",
      "Non-trainable params: 0\n",
      "_________________________________________________________________\n"
     ]
    }
   ],
   "source": [
    "from keras.layers import LSTM\n",
    "\n",
    "K.clear_session()\n",
    "model_lstm = Sequential()\n",
    "model_lstm.add(\n",
    "    LSTM(50,\n",
    "         input_shape=(600,X_train.shape[1]),\n",
    "         activation='relu',\n",
    "#          kernel_initializer='lecun_uniform',\n",
    "         return_sequences=False))\n",
    "model_lstm.add(Dense(1))\n",
    "model_lstm.summary()"
   ]
  },
  {
   "cell_type": "code",
   "execution_count": null,
   "metadata": {
    "id": "J2LGKPV4euHg"
   },
   "outputs": [],
   "source": [
    "# (50*1+1)*50*4"
   ]
  },
  {
   "cell_type": "markdown",
   "metadata": {
    "id": "qZyCmNGJ1qHA"
   },
   "source": [
    "#### Observation:As we can see from the above code, we have used 50 neurons in the LSTM cell with activation function relu, kernel initializer lecun_uniform, and return sequence False."
   ]
  },
  {
   "cell_type": "code",
   "execution_count": null,
   "metadata": {
    "colab": {
     "base_uri": "https://localhost:8080/"
    },
    "id": "KfZwbEJ81qHA",
    "outputId": "f5791f8d-106c-46b9-b86d-b319e91ff847"
   },
   "outputs": [
    {
     "name": "stdout",
     "output_type": "stream",
     "text": [
      "Epoch 1/100\n",
      "12123/12123 [==============================] - 47s 3ms/step - loss: 5.9739e-06 - rmse: 0.0019\n",
      "Epoch 2/100\n",
      "12123/12123 [==============================] - 38s 3ms/step - loss: 0.0022 - rmse: 0.0161\n",
      "Epoch 3/100\n",
      "12123/12123 [==============================] - 38s 3ms/step - loss: 0.0011 - rmse: 0.0145\n",
      "Epoch 4/100\n",
      "12123/12123 [==============================] - 38s 3ms/step - loss: 6.0002e-04 - rmse: 0.0131\n",
      "Epoch 5/100\n",
      "12123/12123 [==============================] - 38s 3ms/step - loss: 3.8206e-04 - rmse: 0.0120\n",
      "Epoch 6/100\n",
      "12123/12123 [==============================] - 37s 3ms/step - loss: 2.4829e-04 - rmse: 0.0112\n",
      "Epoch 00006: early stopping\n"
     ]
    }
   ],
   "source": [
    "model_lstm.compile(\n",
    "    loss=tf.keras.metrics.mean_squared_error,\n",
    "    metrics=[tf.keras.metrics.RootMeanSquaredError(name='rmse')],\n",
    "    optimizer='adam')\n",
    "early_stop = EarlyStopping(monitor='loss', patience=5, verbose=1)\n",
    "history_model_lstm = model_lstm.fit(X_tr_t,\n",
    "                                    y_train,\n",
    "                                    epochs=100,\n",
    "                                    batch_size=1,\n",
    "                                    verbose=1,\n",
    "                                    shuffle=False,\n",
    "                                    callbacks=[early_stop])"
   ]
  },
  {
   "cell_type": "markdown",
   "metadata": {
    "id": "k8aY2EXlDPm0"
   },
   "source": [
    "## Checking the Accuracy "
   ]
  },
  {
   "cell_type": "code",
   "execution_count": null,
   "metadata": {
    "colab": {
     "base_uri": "https://localhost:8080/"
    },
    "id": "8ObVr76B1qHA",
    "outputId": "e6ff36a0-c08b-4d92-f4e1-e9d75e930b39"
   },
   "outputs": [
    {
     "name": "stdout",
     "output_type": "stream",
     "text": [
      "The Scores on Train Data\n",
      "-----------------------\n",
      "The R2 score on the Train set is           :\t0.866\n",
      "The  MAE on the Train set is               :\t5.841\n",
      "The  RMSE on the Train set is              :\t7.283\n",
      "The Adjusted R2 score on the Train set is  :\t0.866\n",
      "The MAPE on Train set is                   :\t47.954 %\n",
      "\n",
      "The Scores on Test Data\n",
      "----------------------\n",
      "The R2 score on the Test set is            :\t0.977\n",
      "The Adjusted R2 score on the Test set is   :\t0.977\n",
      "The  MAE on the Test set is                :\t0.209\n",
      "The  RMSE on the Test set is               :\t0.287\n",
      "The MAPE on the Test Set is                :\t0.285 %\n"
     ]
    }
   ],
   "source": [
    "y_pred_test_lstm = scaler.inverse_transform(model_lstm.predict(X_tst_t))\n",
    "y_train_pred_lstm = scaler.inverse_transform(model_lstm.predict(X_tr_t))\n",
    "iy_train = scaler.inverse_transform(y_train.reshape(12123,-1))\n",
    "iy_test = scaler.inverse_transform(y_test.reshape(524,-1))\n",
    "\n",
    "train_mse = metrics.mean_squared_error(iy_train, y_train_pred_lstm)\n",
    "rmse_train = np.sqrt(train_mse)\n",
    "\n",
    "test_mse = metrics.mean_squared_error(iy_test, y_pred_test_lstm)\n",
    "rmse_test = np.sqrt(test_mse)\n",
    "print('The Scores on Train Data')\n",
    "print('-----------------------')\n",
    "print(\"The R2 score on the Train set is           :\\t{:0.3f}\".format(\n",
    "    r2_score(iy_train, y_train_pred_lstm)))\n",
    "print(\"The  MAE on the Train set is               :\\t{:0.3f}\".format(\n",
    "    metrics.mean_absolute_error(iy_train, y_train_pred_lstm)))\n",
    "\n",
    "print(\"The  RMSE on the Train set is              :\\t{:0.3f}\".format(rmse_train))\n",
    "r2_train = r2_score(iy_train, y_train_pred_lstm)\n",
    "print(\"The Adjusted R2 score on the Train set is  :\\t{:0.3f}\".format(\n",
    "    adj_r2_score(r2_train, X_train.shape[0], X_train.shape[1])))\n",
    "print('The MAPE on Train set is                   :\\t{:.3f} %\\n'.format(MAPE(iy_train,y_train_pred_lstm)))\n",
    "\n",
    "print('The Scores on Test Data')\n",
    "print('----------------------')\n",
    "print(\"The R2 score on the Test set is            :\\t{:0.3f}\".format(\n",
    "    r2_score(iy_test, y_pred_test_lstm)))\n",
    "r2_test = r2_score(iy_test, y_pred_test_lstm)\n",
    "print(\"The Adjusted R2 score on the Test set is   :\\t{:0.3f}\".format(\n",
    "    adj_r2_score(r2_test, X_test.shape[0], X_test.shape[1])))\n",
    "print(\"The  MAE on the Test set is                :\\t{:0.3f}\".format(\n",
    "    metrics.mean_absolute_error(iy_test, y_pred_test_lstm)))\n",
    "print(\"The  RMSE on the Test set is               :\\t{:0.3f}\".format(rmse_test))\n",
    "print('The MAPE on the Test Set is                :\\t{:.3f} %'.format(MAPE(iy_test,y_pred_test_lstm)))"
   ]
  },
  {
   "cell_type": "markdown",
   "metadata": {
    "id": "aoHKCPvHDZcV"
   },
   "source": [
    "## Plotting the prediction vs Actual on Test Data"
   ]
  },
  {
   "cell_type": "code",
   "execution_count": null,
   "metadata": {
    "colab": {
     "base_uri": "https://localhost:8080/",
     "height": 241
    },
    "id": "1TEW6iWV1qHB",
    "outputId": "f384606f-c070-4e6a-992b-e938ff3b4b20",
    "scrolled": false
   },
   "outputs": [
    {
     "data": {
      "image/png": "[encoded data removed]",
      "text/plain": [
       "<Figure size 864x216 with 1 Axes>"
      ]
     },
     "metadata": {
      "needs_background": "light",
      "tags": []
     },
     "output_type": "display_data"
    }
   ],
   "source": [
    "plt.figure(figsize=(12, 3))\n",
    "plt.plot(iy_test, label='True')\n",
    "plt.plot(y_pred_test_lstm, label='LSTM')\n",
    "plt.title(\"LSTM's_Prediction - Test Data\")\n",
    "plt.xlabel('Observation')\n",
    "plt.ylabel('INR_Scaled')\n",
    "plt.legend()\n",
    "plt.show()"
   ]
  },
  {
   "cell_type": "markdown",
   "metadata": {
    "id": "ruwB0lzaDgoA"
   },
   "source": [
    "## Plotting Prediction vs Actuals on Train Data"
   ]
  },
  {
   "cell_type": "code",
   "execution_count": null,
   "metadata": {
    "colab": {
     "base_uri": "https://localhost:8080/",
     "height": 241
    },
    "id": "cZ4x2lzwcYZw",
    "outputId": "125a7062-cbaf-40c1-e19d-aacd57c248c8"
   },
   "outputs": [
    {
     "data": {
      "image/png": "[encoded data removed]",
      "text/plain": [
       "<Figure size 864x216 with 1 Axes>"
      ]
     },
     "metadata": {
      "needs_background": "light",
      "tags": []
     },
     "output_type": "display_data"
    }
   ],
   "source": [
    "plt.figure(figsize=(12, 3))\n",
    "plt.plot(iy_train, label='True')\n",
    "plt.plot(y_train_pred_lstm, label='LSTM')\n",
    "plt.title(\"LSTM's_Prediction - Train Data\")\n",
    "plt.xlabel('Observation')\n",
    "plt.ylabel('INR_Scaled')\n",
    "plt.legend()\n",
    "plt.show()"
   ]
  },
  {
   "cell_type": "markdown",
   "metadata": {
    "id": "kOnUfD2L1qHB"
   },
   "source": [
    "As we can see from above plot, LSTM performs well for test data than ANN. IT can be ovserved that on Train data LSTM tries to keep the most recent information for prediction and predicts the nearterm better than the past. "
   ]
  },
  {
   "cell_type": "markdown",
   "metadata": {
    "id": "RxzUF6NQ1qHC"
   },
   "source": [
    "# GRU\n",
    "\n",
    "Gated Recurrent Unit (GRU) and LSTM both have the characterstics to retain the long term dependency of past sequence of events. The major difference between the two is LSTMs control the exposure of memory content (cell state) while GRUs expose the entire cell state to other units in the network.\n",
    "\n",
    "We can use the same data shape of LSTM for GRU hence we can directly prodeceed to model building."
   ]
  },
  {
   "cell_type": "code",
   "execution_count": null,
   "metadata": {
    "colab": {
     "base_uri": "https://localhost:8080/"
    },
    "id": "pcJmmC3x1qHC",
    "outputId": "2b687ab6-9e23-4149-ae84-2a76bd779a11",
    "scrolled": true
   },
   "outputs": [
    {
     "name": "stdout",
     "output_type": "stream",
     "text": [
      "WARNING:tensorflow:Layer gru will not use cuDNN kernels since it doesn't meet the criteria. It will use a generic GPU kernel as fallback when running on GPU.\n",
      "Model: \"sequential\"\n",
      "_________________________________________________________________\n",
      "Layer (type)                 Output Shape              Param #   \n",
      "=================================================================\n",
      "gru (GRU)                    (None, 7)                 210       \n",
      "_________________________________________________________________\n",
      "dense (Dense)                (None, 1)                 8         \n",
      "=================================================================\n",
      "Total params: 218\n",
      "Trainable params: 218\n",
      "Non-trainable params: 0\n",
      "_________________________________________________________________\n"
     ]
    }
   ],
   "source": [
    "#GRU\n",
    "from keras.layers import GRU\n",
    "\n",
    "K.clear_session()\n",
    "model_gru = Sequential()\n",
    "model_gru.add(\n",
    "    GRU(7,\n",
    "        input_shape=(100, X_train.shape[1]),\n",
    "        activation='linear',\n",
    "        kernel_initializer='lecun_uniform',\n",
    "        return_sequences=False))\n",
    "model_gru.add(Dense(1))\n",
    "model_gru.summary()"
   ]
  },
  {
   "cell_type": "markdown",
   "metadata": {
    "id": "PDwoRNpU1qHD"
   },
   "source": [
    "#### We have build a light weight GRU model having only 7 neurons in hidden layer due to which total model parameters are only 218"
   ]
  },
  {
   "cell_type": "code",
   "execution_count": null,
   "metadata": {
    "colab": {
     "base_uri": "https://localhost:8080/"
    },
    "id": "-AJ17jBR1qHD",
    "outputId": "44176695-2264-45d2-c183-bcc4dd2eb2f3"
   },
   "outputs": [
    {
     "name": "stdout",
     "output_type": "stream",
     "text": [
      "Epoch 1/100\n",
      "WARNING:tensorflow:Model was constructed with shape (None, 100, 1) for input KerasTensor(type_spec=TensorSpec(shape=(None, 100, 1), dtype=tf.float32, name='gru_input'), name='gru_input', description=\"created by layer 'gru_input'\"), but it was called on an input with incompatible shape (1, 1, 1).\n",
      "WARNING:tensorflow:Model was constructed with shape (None, 100, 1) for input KerasTensor(type_spec=TensorSpec(shape=(None, 100, 1), dtype=tf.float32, name='gru_input'), name='gru_input', description=\"created by layer 'gru_input'\"), but it was called on an input with incompatible shape (1, 1, 1).\n",
      "12123/12123 [==============================] - 42s 3ms/step - loss: 7.8697e-06 - rmse: 0.0023\n",
      "Epoch 2/100\n",
      "12123/12123 [==============================] - 38s 3ms/step - loss: 0.0022 - rmse: 0.0160\n",
      "Epoch 3/100\n",
      "12123/12123 [==============================] - 39s 3ms/step - loss: 7.2309e-04 - rmse: 0.0136\n",
      "Epoch 4/100\n",
      "12123/12123 [==============================] - 38s 3ms/step - loss: 3.1006e-04 - rmse: 0.0120\n",
      "Epoch 5/100\n",
      "12123/12123 [==============================] - 39s 3ms/step - loss: 1.7026e-04 - rmse: 0.0108\n",
      "Epoch 6/100\n",
      "12123/12123 [==============================] - 39s 3ms/step - loss: 1.0628e-04 - rmse: 0.0099\n",
      "Epoch 00006: early stopping\n"
     ]
    }
   ],
   "source": [
    "model_gru.compile(loss=tf.keras.metrics.mean_squared_error,\n",
    "                  metrics=[tf.keras.metrics.RootMeanSquaredError(name='rmse')],\n",
    "                  optimizer='adam')\n",
    "early_stop = EarlyStopping(monitor='loss', patience=5, verbose=1)\n",
    "history_model_gru = model_gru.fit(X_tr_t,\n",
    "                                  y_train,\n",
    "                                  epochs=100,\n",
    "                                  batch_size=1,\n",
    "                                  verbose=1,\n",
    "                                  shuffle=False,\n",
    "                                  callbacks=[early_stop])"
   ]
  },
  {
   "cell_type": "markdown",
   "metadata": {
    "id": "-6jJgujlEq_H"
   },
   "source": [
    "## Check the accuracy on both train and test"
   ]
  },
  {
   "cell_type": "code",
   "execution_count": null,
   "metadata": {
    "colab": {
     "base_uri": "https://localhost:8080/"
    },
    "id": "RBfpG2FM1qHD",
    "outputId": "31b2f97b-47b3-4220-e520-cbf61ef6b563"
   },
   "outputs": [
    {
     "name": "stdout",
     "output_type": "stream",
     "text": [
      "WARNING:tensorflow:Model was constructed with shape (None, 100, 1) for input KerasTensor(type_spec=TensorSpec(shape=(None, 100, 1), dtype=tf.float32, name='gru_input'), name='gru_input', description=\"created by layer 'gru_input'\"), but it was called on an input with incompatible shape (None, 1, 1).\n",
      "The Score on Train Data\n",
      "----------------------\n",
      "The R2 score on the Train set is            :\t0.845\n",
      "The  MAE on the Train set is                :\t7.435\n",
      "The  RMSE on the Train set is               :\t7.853\n",
      "The Adjusted R2 score on the Train set is   :\t0.845\n",
      "The MAPE on the Train set is                :\t45.447 %\n",
      "\n",
      "The Score on Test Data\n",
      "---------------------\n",
      "The R2 score on the Test set is             :\t0.426\n",
      "The Adjusted R2 score on the Test set is    :\t0.425\n",
      "The  MAE on the Test set is                 :\t1.262\n",
      "The  RMSE on the Test set is                :\t1.426\n",
      "The MAPE on Test set is                     :\t1.707 %\n"
     ]
    }
   ],
   "source": [
    "y_pred_test_gru = scaler.inverse_transform(model_gru.predict(X_tst_t))\n",
    "y_train_pred_gru = scaler.inverse_transform(model_gru.predict(X_tr_t))\n",
    "\n",
    "train_mse = metrics.mean_squared_error(iy_train, y_train_pred_gru)\n",
    "rmse_train = np.sqrt(train_mse)\n",
    "\n",
    "test_mse = metrics.mean_squared_error(iy_test, y_pred_test_gru)\n",
    "rmse_test = np.sqrt(test_mse)\n",
    "\n",
    "print('The Score on Train Data')\n",
    "print('----------------------')\n",
    "\n",
    "print(\"The R2 score on the Train set is            :\\t{:0.3f}\".format(\n",
    "    r2_score(iy_train, y_train_pred_gru)))\n",
    "print(\"The  MAE on the Train set is                :\\t{:0.3f}\".format(\n",
    "    metrics.mean_absolute_error(iy_train, y_train_pred_gru)))\n",
    "\n",
    "print(\"The  RMSE on the Train set is               :\\t{:0.3f}\".format(rmse_train))\n",
    "r2_train = r2_score(iy_train, y_train_pred_gru)\n",
    "print(\"The Adjusted R2 score on the Train set is   :\\t{:0.3f}\".format(\n",
    "    adj_r2_score(r2_train, X_train.shape[0], X_train.shape[1])))\n",
    "print('The MAPE on the Train set is                :\\t{:.3f} %\\n'.format(\n",
    "    MAPE(iy_train,y_train_pred_gru)))\n",
    "print('The Score on Test Data')\n",
    "print('---------------------')\n",
    "print(\"The R2 score on the Test set is             :\\t{:0.3f}\".format(\n",
    "    r2_score(iy_test, y_pred_test_gru)))\n",
    "r2_test = r2_score(iy_test, y_pred_test_gru)\n",
    "print(\"The Adjusted R2 score on the Test set is    :\\t{:0.3f}\".format(\n",
    "    adj_r2_score(r2_test, X_test.shape[0], X_test.shape[1])))\n",
    "print(\"The  MAE on the Test set is                 :\\t{:0.3f}\".format(\n",
    "    metrics.mean_absolute_error(iy_test, y_pred_test_gru)))\n",
    "print(\"The  RMSE on the Test set is                :\\t{:0.3f}\".format(rmse_test))\n",
    "print('The MAPE on Test set is                     :\\t{:.3f} %'.format(\n",
    "    MAPE(iy_test,y_pred_test_gru)))"
   ]
  },
  {
   "cell_type": "markdown",
   "metadata": {
    "id": "ROhawTeCE1Qm"
   },
   "source": [
    "## plotting the prediction vs actuals on Test Data"
   ]
  },
  {
   "cell_type": "code",
   "execution_count": null,
   "metadata": {
    "colab": {
     "base_uri": "https://localhost:8080/",
     "height": 241
    },
    "id": "5ZMoRtAe1qHD",
    "outputId": "3d96f3b3-6fb4-4ab3-f568-034fd28fda96"
   },
   "outputs": [
    {
     "data": {
      "image/png": "[encoded data removed]",
      "text/plain": [
       "<Figure size 864x216 with 1 Axes>"
      ]
     },
     "metadata": {
      "needs_background": "light",
      "tags": []
     },
     "output_type": "display_data"
    }
   ],
   "source": [
    "#GRU Prediction PLot\n",
    "plt.figure(figsize=(12, 3))\n",
    "plt.plot(iy_test, label='True')\n",
    "plt.plot(y_pred_test_gru, label='GRU')\n",
    "plt.title(\"GRU's_Prediction - Test Data\")\n",
    "plt.xlabel('Observation')\n",
    "plt.ylabel('INR_Scaled')\n",
    "plt.legend()\n",
    "plt.show()"
   ]
  },
  {
   "cell_type": "markdown",
   "metadata": {
    "id": "d2rWcFaTE7ae"
   },
   "source": [
    "## Plotting the Prediction vs Actuals on the Train Data"
   ]
  },
  {
   "cell_type": "code",
   "execution_count": null,
   "metadata": {
    "colab": {
     "base_uri": "https://localhost:8080/",
     "height": 241
    },
    "id": "MB5U17uQ1qHE",
    "outputId": "b843fdce-3fb7-499f-9e96-03fd8c46be64"
   },
   "outputs": [
    {
     "data": {
      "image/png": "[encoded data removed]",
      "text/plain": [
       "<Figure size 864x216 with 1 Axes>"
      ]
     },
     "metadata": {
      "needs_background": "light",
      "tags": []
     },
     "output_type": "display_data"
    }
   ],
   "source": [
    "plt.figure(figsize=(12, 3))\n",
    "plt.plot(iy_train, label='True')\n",
    "plt.plot(y_train_pred_gru, label='GRU')\n",
    "plt.title(\"GRU's_Prediction - Train Data\")\n",
    "plt.xlabel('Observation')\n",
    "plt.ylabel('INR_Scaled')\n",
    "\n",
    "plt.legend()\n",
    "plt.show()"
   ]
  },
  {
   "cell_type": "code",
   "execution_count": 2,
   "metadata": {
    "colab": {
     "base_uri": "https://localhost:8080/"
    },
    "id": "HkmIQx971qHE",
    "outputId": "101f523e-7fb6-45b4-c597-92e88a59d18b"
   },
   "outputs": [
    {
     "name": "stdout",
     "output_type": "stream",
     "text": [
      "Comparing all the Neural Network Models\n",
      "---------------------------------------\n",
      "\"The MAPE on ANN model is     :\t0.784%\"\n",
      "\"The MAPE on GRU model is     :\t0.335 %\"\n",
      "\"The MAPE on LSTM model is    :\t0.279 %\"\n"
     ]
    }
   ],
   "source": [
    "print('Comparing all the Neural Network Models')\n",
    "print('---------------------------------------')\n",
    "\n",
    "print('''\"The MAPE on ANN model is     :\t0.784%\"\n",
    "\"The MAPE on GRU model is     :\t0.335 %\"\n",
    "\"The MAPE on LSTM model is    :\t0.279 %\"''')"
   ]
  },
  {
   "cell_type": "markdown",
   "metadata": {
    "id": "8ZyAmjfIFm4L"
   },
   "source": [
    "# Building the final model with full data -> see another notebook"
   ]
  }
 ],
 "metadata": {
  "colab": {
   "collapsed_sections": [],
   "name": "ANN_LSTM_GRU_FINAL.ipynb",
   "provenance": []
  },
  "hide_input": false,
  "kernelspec": {
   "display_name": "Python 3",
   "language": "python",
   "name": "python3"
  },
  "language_info": {
   "codemirror_mode": {
    "name": "ipython",
    "version": 3
   },
   "file_extension": ".py",
   "mimetype": "text/x-python",
   "name": "python",
   "nbconvert_exporter": "python",
   "pygments_lexer": "ipython3",
   "version": "3.8.10"
  },
  "toc": {
   "base_numbering": 1,
   "nav_menu": {},
   "number_sections": true,
   "sideBar": true,
   "skip_h1_title": false,
   "title_cell": "Table of Contents",
   "title_sidebar": "Contents",
   "toc_cell": false,
   "toc_position": {},
   "toc_section_display": true,
   "toc_window_display": false
  },
  "varInspector": {
   "cols": {
    "lenName": 16,
    "lenType": 16,
    "lenVar": 40
   },
   "kernels_config": {
    "python": {
     "delete_cmd_postfix": "",
     "delete_cmd_prefix": "del ",
     "library": "var_list.py",
     "varRefreshCmd": "print(var_dic_list())"
    },
    "r": {
     "delete_cmd_postfix": ") ",
     "delete_cmd_prefix": "rm(",
     "library": "var_list.r",
     "varRefreshCmd": "cat(var_dic_list()) "
    }
   },
   "types_to_exclude": [
    "module",
    "function",
    "builtin_function_or_method",
    "instance",
    "_Feature"
   ],
   "window_display": false
  }
 },
 "nbformat": 4,
 "nbformat_minor": 1
}
